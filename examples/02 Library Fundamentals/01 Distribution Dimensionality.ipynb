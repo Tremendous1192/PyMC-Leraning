{
 "cells": [
  {
   "cell_type": "markdown",
   "metadata": {},
   "source": [
    "# Distribution Dimensionality\n",
    "PyMC には、分布の次元を指定するためのさまざまな方法が用意されています。 このドキュメントでは概要を説明し、ユーザーへのヒントをいくつか提供します。"
   ]
  },
  {
   "cell_type": "markdown",
   "metadata": {},
   "source": [
    "## Glossary\n",
    "このドキュメントでは、次元の概念を指すために次元という用語を使用します。 以下の各用語には、PyMC における特定の意味論的および計算上の定義があります。 ここではそれらを共有しますが、以下の例で見るとさらに意味が分かります。\n",
    "\n",
    "* Support dimensions → ディストリビューションの中核となる次元\n",
    "* Batch dimensions → ディストリビューションのサポート次元を超える追加の次元\n",
    "* Implicit dimensions → 分布パラメータの値または形状から導かれる次元\n",
    "* Explicit dimensions → 次の引数のいずれかによって明示的に定義されるディメンション:\n",
    "    * Shape → ディストリビューションからの描画数\n",
    "    * Dims → 次元名の配列\n",
    "* Coords → 寸法名を座標値にマッピングする辞書"
   ]
  },
  {
   "cell_type": "code",
   "execution_count": 45,
   "metadata": {},
   "outputs": [],
   "source": [
    "from functools import partial\n",
    "\n",
    "import pymc as pm\n",
    "import numpy as np\n",
    "import pytensor.tensor as pt"
   ]
  },
  {
   "cell_type": "markdown",
   "metadata": {},
   "source": [
    "## Univariate distribution example\n",
    "最も単純なケースである単一の正規分布から始めることができます。 PyMC モデルの外側を指定するには ```.dist``` を使用します。"
   ]
  },
  {
   "cell_type": "code",
   "execution_count": 46,
   "metadata": {},
   "outputs": [],
   "source": [
    "normal_dist = pm.Normal.dist()"
   ]
  },
  {
   "cell_type": "markdown",
   "metadata": {},
   "source": [
    "次に、```draw()``` 関数を使用して、その分布からランダムに抽出することができます。"
   ]
  },
  {
   "cell_type": "code",
   "execution_count": 47,
   "metadata": {},
   "outputs": [],
   "source": [
    "# Just patching the draw function for reproducibility\n",
    "rng = np.random.default_rng(seed = sum(map(ord, \"dimensionality\")))\n",
    "draw = partial(pm.draw, random_seed=rng)"
   ]
  },
  {
   "cell_type": "code",
   "execution_count": 48,
   "metadata": {},
   "outputs": [
    {
     "data": {
      "text/plain": [
       "(array(0.80189558), 0)"
      ]
     },
     "execution_count": 48,
     "metadata": {},
     "output_type": "execute_result"
    }
   ],
   "source": [
    "normal_draw = draw(normal_dist)\n",
    "normal_draw, normal_draw.ndim"
   ]
  },
  {
   "cell_type": "markdown",
   "metadata": {},
   "source": [
    "この場合、最終的には単一のスカラー値になります。 これは、取得できる最小のランダム描画は次元が 0 のスカラーであるため、正規分布にはスカラー サポート次元があることを意味します。 すべてのディストリビューションのサポート次元は、プロパティとしてハードコードされています。"
   ]
  },
  {
   "cell_type": "code",
   "execution_count": 49,
   "metadata": {},
   "outputs": [
    {
     "data": {
      "text/plain": [
       "0"
      ]
     },
     "execution_count": 49,
     "metadata": {},
     "output_type": "execute_result"
    }
   ],
   "source": [
    "normal_dist.owner.op.ndim_supp"
   ]
  },
  {
   "cell_type": "markdown",
   "metadata": {},
   "source": [
    "### Explicit batch dimensions\n",
    "複数の描画が必要な場合、同じ変数のコピーを複数作成し、それらをスタックするのが自然な傾向です。"
   ]
  },
  {
   "cell_type": "code",
   "execution_count": 50,
   "metadata": {},
   "outputs": [
    {
     "data": {
      "text/plain": [
       "array([ 0.83636296, -0.33327414,  0.9434115 ])"
      ]
     },
     "execution_count": 50,
     "metadata": {},
     "output_type": "execute_result"
    }
   ],
   "source": [
    "normal_dists = pm.math.stack([pm.Normal.dist() for _ in range(3)])\n",
    "draw(normal_dists)"
   ]
  },
  {
   "cell_type": "markdown",
   "metadata": {},
   "source": [
    "もっと簡単に言うと、shape 引数を使用して、同じディストリビューション ファミリから独立した描画のバッチを作成できます。"
   ]
  },
  {
   "cell_type": "code",
   "execution_count": 51,
   "metadata": {},
   "outputs": [
    {
     "data": {
      "text/plain": [
       "array([ 0.98810294, -0.07003785, -0.37962748])"
      ]
     },
     "execution_count": 51,
     "metadata": {},
     "output_type": "execute_result"
    }
   ],
   "source": [
    "normal_dists = pm.Normal.dist(shape = (3,))\n",
    "draw(normal_dists)"
   ]
  },
  {
   "cell_type": "code",
   "execution_count": 52,
   "metadata": {},
   "outputs": [
    {
     "data": {
      "text/plain": [
       "array([[ 7.99932116e-04, -1.94407945e+00,  3.90451962e-01],\n",
       "       [ 1.10657367e+00,  6.49042149e-01, -1.09450185e+00],\n",
       "       [-2.96226305e-01,  1.41884595e+00, -1.31589441e+00],\n",
       "       [ 1.53109449e+00, -7.73771737e-01,  2.37418367e+00]])"
      ]
     },
     "execution_count": 52,
     "metadata": {},
     "output_type": "execute_result"
    }
   ],
   "source": [
    "normal_dists = pm.Normal.dist(shape = (4, 3))\n",
    "draw(normal_dists)"
   ]
  },
  {
   "cell_type": "markdown",
   "metadata": {},
   "source": [
    "これはより簡潔であるだけでなく、より効率的なベクトル化コードを生成します。 個別のディストリビューション ファミリからの描画を組み合わせる必要がない限り、PyMC ではスタック アプローチを使用することはほとんどありません。"
   ]
  },
  {
   "cell_type": "markdown",
   "metadata": {},
   "source": [
    "### Implicit batch dimensions\n",
    "形状を指定せずに、より高い次元のパラメーターを渡すことで描画のバッチを作成することもできます。"
   ]
  },
  {
   "cell_type": "code",
   "execution_count": 53,
   "metadata": {},
   "outputs": [
    {
     "data": {
      "text/plain": [
       "array([ 0.81833093, -0.2891973 ,  1.2399946 ])"
      ]
     },
     "execution_count": 53,
     "metadata": {},
     "output_type": "execute_result"
    }
   ],
   "source": [
    "normal_dists = pm.Normal.dist(mu = np.array([0, 0, 0]), sigma = np.array([1, 1, 1]))\n",
    "draw(normal_dists)"
   ]
  },
  {
   "cell_type": "markdown",
   "metadata": {},
   "source": [
    "これは、明示的な形状を使用した前の例と同等であり、ここで明示的に渡すこともできます。 そうしなかったため、これらのバッチ ディメンションを暗黙的であると呼びます。\n",
    "\n",
    "これが非常に役立つのは、バッチのディメンション間でパラメータを変化させたい場合です。"
   ]
  },
  {
   "cell_type": "code",
   "execution_count": 54,
   "metadata": {},
   "outputs": [
    {
     "data": {
      "text/plain": [
       "array([  0.99989975,  10.00009874, 100.00004215])"
      ]
     },
     "execution_count": 54,
     "metadata": {},
     "output_type": "execute_result"
    }
   ],
   "source": [
    "draw(pm.Normal.dist(mu = [1, 10, 100], sigma = 0.0001))"
   ]
  },
  {
   "cell_type": "markdown",
   "metadata": {},
   "source": [
    "パラメータが同じ形状を持たない場合、NumPy の動作と同様の方法でブロードキャストされます。 この場合、```sigma``` は ```mu``` の形状に合わせてブロードキャストされました。"
   ]
  },
  {
   "cell_type": "code",
   "execution_count": 55,
   "metadata": {},
   "outputs": [
    {
     "data": {
      "text/plain": [
       "[array([  1,  10, 100]), array([0.0001, 0.0001, 0.0001])]"
      ]
     },
     "execution_count": 55,
     "metadata": {},
     "output_type": "execute_result"
    }
   ],
   "source": [
    "np.broadcast_arrays([1, 10, 100], 0.0001)"
   ]
  },
  {
   "cell_type": "markdown",
   "metadata": {},
   "source": [
    "NumPy [ブロードキャスト](https://numpy.org/doc/stable/user/basics.broadcasting.html#basics-broadcasting) がどのように機能するかを理解することが重要です。 無効なことを行うと、次のようなエラーが発生しやすくなります。"
   ]
  },
  {
   "cell_type": "code",
   "execution_count": 56,
   "metadata": {},
   "outputs": [
    {
     "name": "stdout",
     "output_type": "stream",
     "text": [
      "Could not broadcast dimensions. Incompatible shapes were [(ScalarConstant(ScalarType(int64), data=3),), (ScalarConstant(ScalarType(int64), data=2),)].\n"
     ]
    }
   ],
   "source": [
    "try:\n",
    "    # shapes of (3,) and (2,) can't be broadcasted together\n",
    "    draw(pm.Normal.dist(mu=[1, 10, 100], sigma=[0.1, 0.1]))\n",
    "except ValueError as error:\n",
    "    print(error)"
   ]
  },
  {
   "cell_type": "markdown",
   "metadata": {},
   "source": [
    "### Combining implicit and explicit batch dimensions\n",
    "明示的な形状ディメンションと暗黙的なバッチディメンションを組み合わせることができます。 上で述べたように、それらは同じ情報を提供できます。"
   ]
  },
  {
   "cell_type": "code",
   "execution_count": 57,
   "metadata": {},
   "outputs": [
    {
     "data": {
      "text/plain": [
       "array([ 0.06413633,  1.29893485, -0.48072495])"
      ]
     },
     "execution_count": 57,
     "metadata": {},
     "output_type": "execute_result"
    }
   ],
   "source": [
    "normal_dists = pm.Normal.dist(mu = np.array([0, 1, 2]), sigma = 1, shape = (3,))\n",
    "draw(normal_dists)"
   ]
  },
  {
   "cell_type": "markdown",
   "metadata": {},
   "source": [
    "ただし、形状を使用して、暗黙的なバッチ次元を超えて拡張することもできます。"
   ]
  },
  {
   "cell_type": "code",
   "execution_count": 58,
   "metadata": {},
   "outputs": [
    {
     "data": {
      "text/plain": [
       "array([[-0.49526775, -0.94608062,  1.66397913],\n",
       "       [ 0.703617  ,  0.66713031,  0.80725231],\n",
       "       [ 0.19219926,  1.62987906,  2.30590873],\n",
       "       [ 1.83763939, -0.19878079,  1.46751553]])"
      ]
     },
     "execution_count": 58,
     "metadata": {},
     "output_type": "execute_result"
    }
   ],
   "source": [
    "normal_dists = pm.Normal.dist(mu = np.array([0, 1, 2]), sigma = 1, shape = (4, 3))\n",
    "draw(normal_dists)"
   ]
  },
  {
   "cell_type": "markdown",
   "metadata": {},
   "source": [
    "ブロードキャスト ルールにより、明示的なバッチ ディメンションは常に暗黙的なディメンションの「左側に配置」する必要があることに注意してください。 したがって、前の例では、```shape = (4, 3)``` は有効ですが、```shape = (3, 4)``` は有効ではありません。 最初のシェイプにはブロードキャストされましたが、2 番目のシェイプにはブロードキャストされませんでした。"
   ]
  },
  {
   "cell_type": "code",
   "execution_count": 59,
   "metadata": {},
   "outputs": [
    {
     "name": "stdout",
     "output_type": "stream",
     "text": [
      "shape mismatch: objects cannot be broadcast to a single shape.  Mismatch is between arg 0 with shape (3, 4) and arg 1 with shape (3,).\n",
      "Apply node that caused the error: normal_rv{0, (0, 0), floatX, True}(RandomGeneratorSharedVariable(<Generator(PCG64) at 0x2AC4F702420>), [3 4], 11, [0 1 2], 1)\n",
      "Toposort index: 0\n",
      "Inputs types: [RandomGeneratorType, TensorType(int64, shape=(2,)), TensorType(int64, shape=()), TensorType(int32, shape=(3,)), TensorType(int8, shape=())]\n",
      "Inputs shapes: ['No shapes', (2,), (), (3,), ()]\n",
      "Inputs strides: ['No strides', (8,), (), (4,), ()]\n",
      "Inputs values: [Generator(PCG64) at 0x2AC4F702420, array([3, 4], dtype=int64), array(11, dtype=int64), array([0, 1, 2]), array(1, dtype=int8)]\n",
      "Outputs clients: [['output'], ['output']]\n",
      "\n",
      "HINT: Re-running with most PyTensor optimizations disabled could provide a back-trace showing when this node was created. This can be done by setting the PyTensor flag 'optimizer=fast_compile'. If that does not work, PyTensor optimizations can be disabled with 'optimizer=None'.\n",
      "HINT: Use the PyTensor flag `exception_verbosity=high` for a debug print-out and storage map footprint of this Apply node.\n"
     ]
    }
   ],
   "source": [
    "try:\n",
    "    draw(pm.Normal.dist(mu = np.array([0, 1, 2]), sigma = 1, shape = (3, 4)))\n",
    "except ValueError as error:\n",
    "    print(error)"
   ]
  },
  {
   "cell_type": "markdown",
   "metadata": {},
   "source": [
    "Normal 変数に ```shape = (3, 4) ``` を持たせる必要がある場合は、定義後に転置できます。"
   ]
  },
  {
   "cell_type": "code",
   "execution_count": 60,
   "metadata": {},
   "outputs": [
    {
     "data": {
      "text/plain": [
       "array([[ 1.36252056,  0.90337366, -1.83306938, -1.04031058],\n",
       "       [ 0.09757005, -0.03093604,  3.29729122, -0.86869013],\n",
       "       [ 3.51136436, -0.33437459,  1.93223367,  3.71535763]])"
      ]
     },
     "execution_count": 60,
     "metadata": {},
     "output_type": "execute_result"
    }
   ],
   "source": [
    "transposed_normals = pm.Normal.dist(mu = np.array([0, 1, 2]), sigma = 1, shape = (4, 3)).T\n",
    "draw(transposed_normals)"
   ]
  },
  {
   "cell_type": "markdown",
   "metadata": {},
   "source": [
    "````\n",
    "```Tip\n",
    "ディストリビューションの定義で設定されたディメンションと、転置、インデックス付け、ブロードキャストなどの下流の操作で設定されたディメンションを混同しないことが重要です。 PyMC でサンプリングする場合 (フォワード サンプリングまたは MCMC によるものであっても)、ランダムな抽出は常に分布形状から発生します。 次の例では、2 つの変数の最終的な形状が同じであるにもかかわらず、実際には異なる数の「ランダム」描画が行われたことに注目してください。\n",
    "```\n",
    "````"
   ]
  },
  {
   "cell_type": "code",
   "execution_count": 61,
   "metadata": {},
   "outputs": [],
   "source": [
    "vector_normals = pm.Normal.dist(shape = (3,))\n",
    "broadcasted_normal = pt.broadcast_to(pm.Normal.dist(), (3,))"
   ]
  },
  {
   "cell_type": "code",
   "execution_count": 62,
   "metadata": {},
   "outputs": [
    {
     "data": {
      "text/plain": [
       "(array([-0.73397401,  2.54543846, -1.14705529]),\n",
       " array([-0.45755879, -0.45755879, -0.45755879]))"
      ]
     },
     "execution_count": 62,
     "metadata": {},
     "output_type": "execute_result"
    }
   ],
   "source": [
    "draw(vector_normals), draw(broadcasted_normal)"
   ]
  },
  {
   "cell_type": "markdown",
   "metadata": {},
   "source": [
    "## Multivariate distribution example\n",
    "定義上、一部の分布は評価時に複数の値を返します。 これは、値のベクトル、行列、または任意の多次元テンソルである可能性があります。 例としては、常にベクトル (1 次元の配列) を返す多変量正規関数があります。"
   ]
  },
  {
   "cell_type": "code",
   "execution_count": 63,
   "metadata": {},
   "outputs": [
    {
     "data": {
      "text/plain": [
       "(array([1.29866199, 1.01091254, 0.08414986]), 1)"
      ]
     },
     "execution_count": 63,
     "metadata": {},
     "output_type": "execute_result"
    }
   ],
   "source": [
    "mvnormal_dist = pm.MvNormal.dist(mu = np.ones(3), cov = np.eye(3))\n",
    "mvnormal_draw = draw(mvnormal_dist)\n",
    "mvnormal_draw, mvnormal_draw.ndim"
   ]
  },
  {
   "cell_type": "markdown",
   "metadata": {},
   "source": [
    "他のディストリビューションと同様に、サポート次元は固定プロパティとして指定されます。"
   ]
  },
  {
   "cell_type": "code",
   "execution_count": 64,
   "metadata": {},
   "outputs": [
    {
     "data": {
      "text/plain": [
       "1"
      ]
     },
     "execution_count": 64,
     "metadata": {},
     "output_type": "execute_result"
    }
   ],
   "source": [
    "mvnormal_dist.owner.op.ndim_supp"
   ]
  },
  {
   "cell_type": "markdown",
   "metadata": {},
   "source": [
    "他のディストリビューションと同様に、サポート次元は固定プロパティとして指定されます。"
   ]
  },
  {
   "cell_type": "code",
   "execution_count": 65,
   "metadata": {},
   "outputs": [
    {
     "data": {
      "text/plain": [
       "1"
      ]
     },
     "execution_count": 65,
     "metadata": {},
     "output_type": "execute_result"
    }
   ],
   "source": [
    "mvnormal_dist.owner.op.ndim_supp"
   ]
  },
  {
   "cell_type": "markdown",
   "metadata": {},
   "source": [
    "単一次元の MvNormal を指定した場合でも、ベクトルが返されます。"
   ]
  },
  {
   "cell_type": "code",
   "execution_count": 66,
   "metadata": {},
   "outputs": [
    {
     "data": {
      "text/plain": [
       "(array([0.55390975]), 1)"
      ]
     },
     "execution_count": 66,
     "metadata": {},
     "output_type": "execute_result"
    }
   ],
   "source": [
    "smallest_mvnormal_dist = pm.MvNormal.dist(mu = [1], cov = [[1]])\n",
    "smallest_mvnormal_draw = draw(smallest_mvnormal_dist)\n",
    "smallest_mvnormal_draw, smallest_mvnormal_draw.ndim"
   ]
  },
  {
   "cell_type": "markdown",
   "metadata": {},
   "source": [
    "### Implicit support dimensions\n",
    "先ほど見た MvNormal の例では、サポート ディメンションは実際には暗黙的でした。 3 ドローまたは 1 ドローのベクトルが必要であるとはどこにも指定されていませんでした。 これは ```mu``` と ```cov``` の形状から推測されました。 そのため、これを暗黙的なサポート ディメンションと呼びます。 形状を使用することで、もう少し明示的にすることができます。"
   ]
  },
  {
   "cell_type": "code",
   "execution_count": 67,
   "metadata": {},
   "outputs": [
    {
     "data": {
      "text/plain": [
       "array([-0.68893796,  1.10911095, -0.30443374])"
      ]
     },
     "execution_count": 67,
     "metadata": {},
     "output_type": "execute_result"
    }
   ],
   "source": [
    "explicit_mvnormal = pm.MvNormal.dist(mu = np.ones(3), cov = np.eye(3), shape = (3,))\n",
    "draw(explicit_mvnormal)"
   ]
  },
  {
   "cell_type": "markdown",
   "metadata": {},
   "source": [
    "````\n",
    "```Warning\n",
    "ただし、この記述の時点では、形状はサポート寸法として単に無視されることに注意してください。 これは、予想される寸法にラベルを付けるための「タイプヒント」としてのみ機能します。\n",
    "```\n",
    "````"
   ]
  },
  {
   "cell_type": "code",
   "execution_count": 68,
   "metadata": {},
   "outputs": [
    {
     "data": {
      "text/plain": [
       "array([0.57262853, 0.34230354, 1.96818163])"
      ]
     },
     "execution_count": 68,
     "metadata": {},
     "output_type": "execute_result"
    }
   ],
   "source": [
    "ignored_shape_mvnormal = pm.MvNormal.dist(mu = np.ones(3), cov = np.eye(3), shape = (4,))\n",
    "draw(ignored_shape_mvnormal)"
   ]
  },
  {
   "cell_type": "markdown",
   "metadata": {},
   "source": [
    "### Explicit batch dimensions\n",
    "単変量分布と同様に、明示的にバッチ化されたディメンションを追加できます。 これを説明するために別のベクトル分布、多項分布を使用します。 次のスニペットは、それぞれがサイズ 3 のベクトルである 5 つの独立した多項分布の行列を定義します。"
   ]
  },
  {
   "cell_type": "code",
   "execution_count": 69,
   "metadata": {},
   "outputs": [
    {
     "data": {
      "text/plain": [
       "array([[0, 2, 3],\n",
       "       [0, 2, 3],\n",
       "       [1, 0, 4],\n",
       "       [0, 1, 4],\n",
       "       [0, 1, 4]], dtype=int64)"
      ]
     },
     "execution_count": 69,
     "metadata": {},
     "output_type": "execute_result"
    }
   ],
   "source": [
    "draw(pm.Multinomial.dist(n=5, p=[0.1, 0.3, 0.6], shape=(5, 3)))"
   ]
  },
  {
   "cell_type": "markdown",
   "metadata": {},
   "source": [
    "````\n",
    "```Warning\n",
    "繰り返しますが、形状はサポートの次元に影響を与えないことに注意してください。\n",
    "```\n",
    "````"
   ]
  },
  {
   "cell_type": "code",
   "execution_count": 70,
   "metadata": {},
   "outputs": [
    {
     "data": {
      "text/plain": [
       "array([[2, 0, 3],\n",
       "       [1, 1, 3],\n",
       "       [0, 2, 3],\n",
       "       [0, 1, 4],\n",
       "       [1, 0, 4]], dtype=int64)"
      ]
     },
     "execution_count": 70,
     "metadata": {},
     "output_type": "execute_result"
    }
   ],
   "source": [
    "draw(pm.Multinomial.dist(n = 5, p = [0.1, 0.3, 0.6], shape = (5, 4)))"
   ]
  },
  {
   "cell_type": "markdown",
   "metadata": {},
   "source": [
    "同じ理由で、サポート ディメンションの「左側」に明示的にバッチ ディメンションを定義する必要があります。 以下は期待どおりに動作しません。"
   ]
  },
  {
   "cell_type": "code",
   "execution_count": 71,
   "metadata": {},
   "outputs": [
    {
     "data": {
      "text/plain": [
       "array([[0, 1, 4],\n",
       "       [0, 0, 5],\n",
       "       [3, 1, 1]], dtype=int64)"
      ]
     },
     "execution_count": 71,
     "metadata": {},
     "output_type": "execute_result"
    }
   ],
   "source": [
    "draw(pm.Multinomial.dist(n = 5, p = [0.1, 0.3, 0.6], shape = (3, 5)))"
   ]
  },
  {
   "cell_type": "markdown",
   "metadata": {},
   "source": [
    "多項変数に ```shape = (3, 5)```` を持たせる必要がある場合は、定義後に転置できます。"
   ]
  },
  {
   "cell_type": "code",
   "execution_count": 72,
   "metadata": {},
   "outputs": [
    {
     "data": {
      "text/plain": [
       "array([[2, 1, 1, 0, 2],\n",
       "       [0, 3, 1, 0, 1],\n",
       "       [3, 1, 3, 5, 2]], dtype=int64)"
      ]
     },
     "execution_count": 72,
     "metadata": {},
     "output_type": "execute_result"
    }
   ],
   "source": [
    "transposed_multinomials = pm.Multinomial.dist(n = 5, p = [0.1, 0.3, 0.6], shape = (5, 3)).T\n",
    "draw(transposed_multinomials)"
   ]
  },
  {
   "cell_type": "markdown",
   "metadata": {},
   "source": [
    "### Implicit batch dimensions\n",
    "単変量分布と同様に、バッチ化されたディメンションごとに異なるパラメーターを使用できます。"
   ]
  },
  {
   "cell_type": "code",
   "execution_count": 73,
   "metadata": {},
   "outputs": [
    {
     "data": {
      "text/plain": [
       "array([[0, 2, 3],\n",
       "       [1, 4, 5]], dtype=int64)"
      ]
     },
     "execution_count": 73,
     "metadata": {},
     "output_type": "execute_result"
    }
   ],
   "source": [
    "multinomial_dist = pm.Multinomial.dist(n = [5, 10], p = [0.1, 0.3, 0.6])\n",
    "draw(multinomial_dist)"
   ]
  },
  {
   "cell_type": "markdown",
   "metadata": {},
   "source": [
    "これはより冗長なものと同等です"
   ]
  },
  {
   "cell_type": "code",
   "execution_count": 74,
   "metadata": {},
   "outputs": [
    {
     "data": {
      "text/plain": [
       "array([[1, 2, 2],\n",
       "       [0, 3, 7]], dtype=int64)"
      ]
     },
     "execution_count": 74,
     "metadata": {},
     "output_type": "execute_result"
    }
   ],
   "source": [
    "draw(pm.Multinomial.dist(n = [5, 10], p = [[0.1, 0.3, 0.6], [0.1, 0.3, 0.6]]))"
   ]
  },
  {
   "cell_type": "markdown",
   "metadata": {},
   "source": [
    "NumPy ブロードキャスト ルールに精通している場合は、PyMC がこれをどのように機能させるかに興味があるかもしれません。 ここでは単純なブロードキャストは機能しません"
   ]
  },
  {
   "cell_type": "code",
   "execution_count": 75,
   "metadata": {},
   "outputs": [
    {
     "name": "stdout",
     "output_type": "stream",
     "text": [
      "shape mismatch: objects cannot be broadcast to a single shape.  Mismatch is between arg 0 with shape (2,) and arg 1 with shape (3,).\n"
     ]
    }
   ],
   "source": [
    "try:\n",
    "    np.broadcast_arrays([5, 10], [0.1, 0.3, 0.6])\n",
    "except ValueError as exc:\n",
    "    print(exc)"
   ]
  },
  {
   "cell_type": "markdown",
   "metadata": {},
   "source": [
    "何が起こっているのかを理解するには、パラメーター コア ディメンションの概念を導入する必要があります。 分布のパラメータのコア次元は、分布を定義するためにパラメータに必要な次元の最小数です。 多項分布では、``n`` は少なくともスカラー整数でなければなりませんが、``p`` は少なくとも各カテゴリで結果が得られる確率を表すベクトルでなければなりません。 したがって、多項分布の場合、 ``n`` は 0 コア次元を持ち、 ``p`` は 1 コア次元を持ちます。\n",
    "\n",
    "したがって、2 つの ``n`` のベクトルがある場合、実際には ``p`` のベクトルを 2 つのそのようなベクトルを含む行列にブロードキャストし、各 ``n`` をそれぞれのベクトルとペアにする必要があります。 ```p``` の行をブロードキャストしました。 これは ```np.vectorize``` とまったく同じように機能します。"
   ]
  },
  {
   "cell_type": "code",
   "execution_count": 76,
   "metadata": {},
   "outputs": [
    {
     "name": "stdout",
     "output_type": "stream",
     "text": [
      ">> 5 [0.1 0.3 0.6]\n",
      ">> 10 [0.1 0.3 0.6]\n"
     ]
    },
    {
     "data": {
      "text/plain": [
       "array([[2, 2, 1],\n",
       "       [1, 1, 8]], dtype=int64)"
      ]
     },
     "execution_count": 76,
     "metadata": {},
     "output_type": "execute_result"
    }
   ],
   "source": [
    "def core_multinomial(n, p):\n",
    "    print(\">>\", n, p)\n",
    "    return draw(pm.Multinomial.dist(n, p))\n",
    "\n",
    "\n",
    "vectorized_multinomial = np.vectorize(core_multinomial, signature = \"(),(p)->(p)\")\n",
    "vectorized_multinomial([5, 10], [0.1, 0.3, 0.6])"
   ]
  },
  {
   "cell_type": "markdown",
   "metadata": {},
   "source": [
    "各分布パラメータのコア次元も、各分布のプロパティとしてハードコードされています。"
   ]
  },
  {
   "cell_type": "code",
   "execution_count": 77,
   "metadata": {},
   "outputs": [
    {
     "data": {
      "text/plain": [
       "(0, 1)"
      ]
     },
     "execution_count": 77,
     "metadata": {},
     "output_type": "execute_result"
    }
   ],
   "source": [
    "multinomial_dist.owner.op.ndims_params"
   ]
  },
  {
   "cell_type": "markdown",
   "metadata": {},
   "source": [
    "暗黙的なバッチ ディメンションは引き続きブロードキャスト ルールを尊重する必要があります。 次の例は、```n``` のバッチ次元が ```shape = (2,)``` であり、```p``` のバッチ次元が ```shape = (3, )``` を一緒に放送することはできません。"
   ]
  },
  {
   "cell_type": "code",
   "execution_count": 78,
   "metadata": {},
   "outputs": [
    {
     "name": "stdout",
     "output_type": "stream",
     "text": [
      "Could not broadcast dimensions. Incompatible shapes were [(ScalarConstant(ScalarType(int64), data=2),), (ScalarConstant(ScalarType(int64), data=3),)].\n"
     ]
    }
   ],
   "source": [
    "try:\n",
    "    draw(pm.Multinomial.dist(n=[5, 10], p=[[0.1, 0.3, 0.6], [0.1, 0.3, 0.6], [0.1, 0.3, 0.6]]))\n",
    "except ValueError as error:\n",
    "    print(error)"
   ]
  },
  {
   "cell_type": "markdown",
   "metadata": {},
   "source": [
    "### Combining implicit and explicit batch dimensions\n",
    "多次元パラメータからの暗黙的な寸法と明示的な形状情報を組み合わせることができますし、そうすべきです。これは推論が容易です。"
   ]
  },
  {
   "cell_type": "code",
   "execution_count": 79,
   "metadata": {},
   "outputs": [
    {
     "data": {
      "text/plain": [
       "array([[1, 1, 3],\n",
       "       [2, 1, 7]], dtype=int64)"
      ]
     },
     "execution_count": 79,
     "metadata": {},
     "output_type": "execute_result"
    }
   ],
   "source": [
    "draw(pm.Multinomial.dist(n=[5, 10], p=[0.1, 0.3, 0.6], shape=(2, 3)))"
   ]
  },
  {
   "cell_type": "markdown",
   "metadata": {},
   "source": [
    "明示的なバッチ ディメンションは、暗黙的なバッチ ディメンションを超えて拡張することができます。 繰り返しになりますが、ブロードキャストの仕組みにより、明示的なバッチ ディメンションは常に「左側に移動」する必要があります。 次のケースは無効です。```n``` には ```shape = (2,)``` のバッチ ディメンションがあり、これを ```shape = (2, 4) ```の明示的なバッチ ディメンションにブロードキャストすることはできません。"
   ]
  },
  {
   "cell_type": "code",
   "execution_count": 80,
   "metadata": {},
   "outputs": [
    {
     "name": "stdout",
     "output_type": "stream",
     "text": [
      "operands could not be broadcast together with remapped shapes [original->remapped]: (2,)  and requested shape (2,4)\n",
      "Apply node that caused the error: multinomial_rv{1, (0, 1), int64, True}(RandomGeneratorSharedVariable(<Generator(PCG64) at 0x2AC4F7D1700>), [2 4], 4, [ 5 10], [0.1 0.3 0.6])\n",
      "Toposort index: 0\n",
      "Inputs types: [RandomGeneratorType, TensorType(int64, shape=(2,)), TensorType(int64, shape=()), TensorType(int32, shape=(2,)), TensorType(float64, shape=(3,))]\n",
      "Inputs shapes: ['No shapes', (2,), (), (2,), (3,)]\n",
      "Inputs strides: ['No strides', (8,), (), (4,), (8,)]\n",
      "Inputs values: [Generator(PCG64) at 0x2AC4F7D1700, array([2, 4], dtype=int64), array(4, dtype=int64), array([ 5, 10]), array([0.1, 0.3, 0.6])]\n",
      "Outputs clients: [['output'], ['output']]\n",
      "\n",
      "HINT: Re-running with most PyTensor optimizations disabled could provide a back-trace showing when this node was created. This can be done by setting the PyTensor flag 'optimizer=fast_compile'. If that does not work, PyTensor optimizations can be disabled with 'optimizer=None'.\n",
      "HINT: Use the PyTensor flag `exception_verbosity=high` for a debug print-out and storage map footprint of this Apply node.\n"
     ]
    }
   ],
   "source": [
    "try:\n",
    "    draw(pm.Multinomial.dist(n = [5, 10], p = [0.1, 0.3, 0.6], shape = (2, 4, 3)))\n",
    "except ValueError as error:\n",
    "    print(error)"
   ]
  },
  {
   "cell_type": "markdown",
   "metadata": {},
   "source": [
    "## Inspecting dimensionality with a model graph\n",
    "多くの場合、分布は PyMC モデル内で使用されるため、そのコンテキストでの分布の形状についての推論を容易にするツールがあります。"
   ]
  },
  {
   "cell_type": "code",
   "execution_count": 81,
   "metadata": {},
   "outputs": [
    {
     "name": "stdout",
     "output_type": "stream",
     "text": [
      "          x: shape=(3,)\n",
      "sigma_log__: shape=()\n",
      "      sigma: shape=()\n",
      "          y: shape=(3,)\n"
     ]
    }
   ],
   "source": [
    "with pm.Model() as pmodel:\n",
    "    mu = pm.Normal(\"x\", mu = 0, shape = (3))\n",
    "    sigma = pm.HalfNormal(\"sigma\")\n",
    "    y = pm.Normal(\"y\", mu = mu, sigma = sigma)\n",
    "\n",
    "for rv, shape in pmodel.eval_rv_shapes().items():\n",
    "    print(f\"{rv:>11}: shape={shape}\")"
   ]
  },
  {
   "cell_type": "markdown",
   "metadata": {},
   "source": [
    "PyMC の次元を理解してデバッグするためのさらに強力なツールは、```model_to_graphviz()``` 関数です。 配列の出力を検査する代わりに、Graphviz の出力を読んで変数の次元を理解することができます。"
   ]
  },
  {
   "cell_type": "code",
   "execution_count": 82,
   "metadata": {},
   "outputs": [
    {
     "data": {
      "image/svg+xml": [
       "<?xml version=\"1.0\" encoding=\"UTF-8\" standalone=\"no\"?>\n",
       "<!DOCTYPE svg PUBLIC \"-//W3C//DTD SVG 1.1//EN\"\n",
       " \"http://www.w3.org/Graphics/SVG/1.1/DTD/svg11.dtd\">\n",
       "<!-- Generated by graphviz version 9.0.0 (0)\n",
       " -->\n",
       "<!-- Pages: 1 -->\n",
       "<svg width=\"240pt\" height=\"263pt\"\n",
       " viewBox=\"0.00 0.00 239.98 263.13\" xmlns=\"http://www.w3.org/2000/svg\" xmlns:xlink=\"http://www.w3.org/1999/xlink\">\n",
       "<g id=\"graph0\" class=\"graph\" transform=\"scale(1 1) rotate(0) translate(4 259.13)\">\n",
       "<polygon fill=\"white\" stroke=\"none\" points=\"-4,4 -4,-259.13 235.98,-259.13 235.98,4 -4,4\"/>\n",
       "<g id=\"clust1\" class=\"cluster\">\n",
       "<title>cluster3</title>\n",
       "<path fill=\"none\" stroke=\"black\" d=\"M20,-8C20,-8 94,-8 94,-8 100,-8 106,-14 106,-20 106,-20 106,-235.13 106,-235.13 106,-241.13 100,-247.13 94,-247.13 94,-247.13 20,-247.13 20,-247.13 14,-247.13 8,-241.13 8,-235.13 8,-235.13 8,-20 8,-20 8,-14 14,-8 20,-8\"/>\n",
       "<text text-anchor=\"middle\" x=\"94.62\" y=\"-15.2\" font-family=\"Times New Roman,serif\" font-size=\"14.00\">3</text>\n",
       "</g>\n",
       "<!-- y -->\n",
       "<g id=\"node1\" class=\"node\">\n",
       "<title>y</title>\n",
       "<ellipse fill=\"none\" stroke=\"black\" cx=\"57\" cy=\"-81.16\" rx=\"41.01\" ry=\"40.66\"/>\n",
       "<text text-anchor=\"middle\" x=\"57\" y=\"-92.61\" font-family=\"Times New Roman,serif\" font-size=\"14.00\">y</text>\n",
       "<text text-anchor=\"middle\" x=\"57\" y=\"-76.11\" font-family=\"Times New Roman,serif\" font-size=\"14.00\">~</text>\n",
       "<text text-anchor=\"middle\" x=\"57\" y=\"-59.61\" font-family=\"Times New Roman,serif\" font-size=\"14.00\">Normal</text>\n",
       "</g>\n",
       "<!-- x -->\n",
       "<g id=\"node2\" class=\"node\">\n",
       "<title>x</title>\n",
       "<ellipse fill=\"none\" stroke=\"black\" cx=\"57\" cy=\"-198.48\" rx=\"41.01\" ry=\"40.66\"/>\n",
       "<text text-anchor=\"middle\" x=\"57\" y=\"-209.93\" font-family=\"Times New Roman,serif\" font-size=\"14.00\">x</text>\n",
       "<text text-anchor=\"middle\" x=\"57\" y=\"-193.43\" font-family=\"Times New Roman,serif\" font-size=\"14.00\">~</text>\n",
       "<text text-anchor=\"middle\" x=\"57\" y=\"-176.93\" font-family=\"Times New Roman,serif\" font-size=\"14.00\">Normal</text>\n",
       "</g>\n",
       "<!-- x&#45;&gt;y -->\n",
       "<g id=\"edge2\" class=\"edge\">\n",
       "<title>x&#45;&gt;y</title>\n",
       "<path fill=\"none\" stroke=\"black\" d=\"M57,-157.47C57,-149.69 57,-141.43 57,-133.34\"/>\n",
       "<polygon fill=\"black\" stroke=\"black\" points=\"60.5,-133.61 57,-123.61 53.5,-133.61 60.5,-133.61\"/>\n",
       "</g>\n",
       "<!-- sigma -->\n",
       "<g id=\"node3\" class=\"node\">\n",
       "<title>sigma</title>\n",
       "<ellipse fill=\"none\" stroke=\"black\" cx=\"174\" cy=\"-198.48\" rx=\"57.98\" ry=\"40.66\"/>\n",
       "<text text-anchor=\"middle\" x=\"174\" y=\"-209.93\" font-family=\"Times New Roman,serif\" font-size=\"14.00\">sigma</text>\n",
       "<text text-anchor=\"middle\" x=\"174\" y=\"-193.43\" font-family=\"Times New Roman,serif\" font-size=\"14.00\">~</text>\n",
       "<text text-anchor=\"middle\" x=\"174\" y=\"-176.93\" font-family=\"Times New Roman,serif\" font-size=\"14.00\">HalfNormal</text>\n",
       "</g>\n",
       "<!-- sigma&#45;&gt;y -->\n",
       "<g id=\"edge1\" class=\"edge\">\n",
       "<title>sigma&#45;&gt;y</title>\n",
       "<path fill=\"none\" stroke=\"black\" d=\"M140.79,-164.74C126.19,-150.36 109,-133.41 94,-118.63\"/>\n",
       "<polygon fill=\"black\" stroke=\"black\" points=\"96.58,-116.25 87,-111.73 91.66,-121.24 96.58,-116.25\"/>\n",
       "</g>\n",
       "</g>\n",
       "</svg>\n"
      ],
      "text/plain": [
       "<graphviz.graphs.Digraph at 0x2ac4f80a550>"
      ]
     },
     "execution_count": 82,
     "metadata": {},
     "output_type": "execute_result"
    }
   ],
   "source": [
    "pm.model_to_graphviz(pmodel)"
   ]
  },
  {
   "cell_type": "markdown",
   "metadata": {},
   "source": [
    "上の例では、各ボックス (またはプレート) の左下の数字は、その中の分布の次元を示しています。 分布が数値のあるボックスの外側にある場合、その分布はスカラー形状になります。\n",
    "\n",
    "このツールを使用して、暗黙的および明示的なディメンションを確認してみましょう:"
   ]
  },
  {
   "cell_type": "code",
   "execution_count": 83,
   "metadata": {},
   "outputs": [
    {
     "data": {
      "image/svg+xml": [
       "<?xml version=\"1.0\" encoding=\"UTF-8\" standalone=\"no\"?>\n",
       "<!DOCTYPE svg PUBLIC \"-//W3C//DTD SVG 1.1//EN\"\n",
       " \"http://www.w3.org/Graphics/SVG/1.1/DTD/svg11.dtd\">\n",
       "<!-- Generated by graphviz version 9.0.0 (0)\n",
       " -->\n",
       "<!-- Pages: 1 -->\n",
       "<svg width=\"503pt\" height=\"146pt\"\n",
       " viewBox=\"0.00 0.00 503.24 145.82\" xmlns=\"http://www.w3.org/2000/svg\" xmlns:xlink=\"http://www.w3.org/1999/xlink\">\n",
       "<g id=\"graph0\" class=\"graph\" transform=\"scale(1 1) rotate(0) translate(4 141.82)\">\n",
       "<polygon fill=\"white\" stroke=\"none\" points=\"-4,4 -4,-141.82 499.24,-141.82 499.24,4 -4,4\"/>\n",
       "<g id=\"clust2\" class=\"cluster\">\n",
       "<title>cluster4</title>\n",
       "<path fill=\"none\" stroke=\"black\" d=\"M337.24,-8C337.24,-8 475.24,-8 475.24,-8 481.24,-8 487.24,-14 487.24,-20 487.24,-20 487.24,-117.82 487.24,-117.82 487.24,-123.82 481.24,-129.82 475.24,-129.82 475.24,-129.82 337.24,-129.82 337.24,-129.82 331.24,-129.82 325.24,-123.82 325.24,-117.82 325.24,-117.82 325.24,-20 325.24,-20 325.24,-14 331.24,-8 337.24,-8\"/>\n",
       "<text text-anchor=\"middle\" x=\"475.87\" y=\"-15.2\" font-family=\"Times New Roman,serif\" font-size=\"14.00\">4</text>\n",
       "</g>\n",
       "<g id=\"clust1\" class=\"cluster\">\n",
       "<title>cluster3</title>\n",
       "<path fill=\"none\" stroke=\"black\" d=\"M165.24,-8C165.24,-8 305.24,-8 305.24,-8 311.24,-8 317.24,-14 317.24,-20 317.24,-20 317.24,-117.82 317.24,-117.82 317.24,-123.82 311.24,-129.82 305.24,-129.82 305.24,-129.82 165.24,-129.82 165.24,-129.82 159.24,-129.82 153.24,-123.82 153.24,-117.82 153.24,-117.82 153.24,-20 153.24,-20 153.24,-14 159.24,-8 165.24,-8\"/>\n",
       "<text text-anchor=\"middle\" x=\"305.87\" y=\"-15.2\" font-family=\"Times New Roman,serif\" font-size=\"14.00\">3</text>\n",
       "</g>\n",
       "<!-- scalar (support) -->\n",
       "<g id=\"node1\" class=\"node\">\n",
       "<title>scalar (support)</title>\n",
       "<ellipse fill=\"none\" stroke=\"black\" cx=\"71.24\" cy=\"-81.16\" rx=\"71.24\" ry=\"40.66\"/>\n",
       "<text text-anchor=\"middle\" x=\"71.24\" y=\"-92.61\" font-family=\"Times New Roman,serif\" font-size=\"14.00\">scalar (support)</text>\n",
       "<text text-anchor=\"middle\" x=\"71.24\" y=\"-76.11\" font-family=\"Times New Roman,serif\" font-size=\"14.00\">~</text>\n",
       "<text text-anchor=\"middle\" x=\"71.24\" y=\"-59.61\" font-family=\"Times New Roman,serif\" font-size=\"14.00\">Normal</text>\n",
       "</g>\n",
       "<!-- vector (implicit) -->\n",
       "<g id=\"node2\" class=\"node\">\n",
       "<title>vector (implicit)</title>\n",
       "<ellipse fill=\"none\" stroke=\"black\" cx=\"235.24\" cy=\"-81.16\" rx=\"74.42\" ry=\"40.66\"/>\n",
       "<text text-anchor=\"middle\" x=\"235.24\" y=\"-92.61\" font-family=\"Times New Roman,serif\" font-size=\"14.00\">vector (implicit)</text>\n",
       "<text text-anchor=\"middle\" x=\"235.24\" y=\"-76.11\" font-family=\"Times New Roman,serif\" font-size=\"14.00\">~</text>\n",
       "<text text-anchor=\"middle\" x=\"235.24\" y=\"-59.61\" font-family=\"Times New Roman,serif\" font-size=\"14.00\">Normal</text>\n",
       "</g>\n",
       "<!-- vector (explicit) -->\n",
       "<g id=\"node3\" class=\"node\">\n",
       "<title>vector (explicit)</title>\n",
       "<ellipse fill=\"none\" stroke=\"black\" cx=\"406.24\" cy=\"-81.16\" rx=\"72.83\" ry=\"40.66\"/>\n",
       "<text text-anchor=\"middle\" x=\"406.24\" y=\"-92.61\" font-family=\"Times New Roman,serif\" font-size=\"14.00\">vector (explicit)</text>\n",
       "<text text-anchor=\"middle\" x=\"406.24\" y=\"-76.11\" font-family=\"Times New Roman,serif\" font-size=\"14.00\">~</text>\n",
       "<text text-anchor=\"middle\" x=\"406.24\" y=\"-59.61\" font-family=\"Times New Roman,serif\" font-size=\"14.00\">Normal</text>\n",
       "</g>\n",
       "</g>\n",
       "</svg>\n"
      ],
      "text/plain": [
       "<graphviz.graphs.Digraph at 0x2ac4f833a90>"
      ]
     },
     "execution_count": 83,
     "metadata": {},
     "output_type": "execute_result"
    }
   ],
   "source": [
    "with pm.Model() as pmodel:\n",
    "    pm.Normal(\"scalar (support)\")\n",
    "    pm.Normal(\"vector (implicit)\", mu = [1, 2, 3])\n",
    "    pm.Normal(\"vector (explicit)\", shape = (4,))\n",
    "\n",
    "pm.model_to_graphviz(pmodel)"
   ]
  },
  {
   "cell_type": "markdown",
   "metadata": {},
   "source": [
    "## Dims\n",
    "PyMC は ```dims``` の概念をサポートしています。 多くの確率変数があると、どの次元がどの「現実世界」のアイデアに対応するかが混乱する可能性があります。 観測値の数、処理される単位の数など。 ``dims`` 引数は、この意味を伝えることができる人間が判読できる追加のラベルです。 単独で使用する場合、```dims``` を明示的な ```shape``` 情報と組み合わせる必要があります。"
   ]
  },
  {
   "cell_type": "code",
   "execution_count": 84,
   "metadata": {},
   "outputs": [
    {
     "data": {
      "image/svg+xml": [
       "<?xml version=\"1.0\" encoding=\"UTF-8\" standalone=\"no\"?>\n",
       "<!DOCTYPE svg PUBLIC \"-//W3C//DTD SVG 1.1//EN\"\n",
       " \"http://www.w3.org/Graphics/SVG/1.1/DTD/svg11.dtd\">\n",
       "<!-- Generated by graphviz version 9.0.0 (0)\n",
       " -->\n",
       "<!-- Pages: 1 -->\n",
       "<svg width=\"122pt\" height=\"146pt\"\n",
       " viewBox=\"0.00 0.00 122.00 145.82\" xmlns=\"http://www.w3.org/2000/svg\" xmlns:xlink=\"http://www.w3.org/1999/xlink\">\n",
       "<g id=\"graph0\" class=\"graph\" transform=\"scale(1 1) rotate(0) translate(4 141.82)\">\n",
       "<polygon fill=\"white\" stroke=\"none\" points=\"-4,4 -4,-141.82 118,-141.82 118,4 -4,4\"/>\n",
       "<g id=\"clust1\" class=\"cluster\">\n",
       "<title>clusteryear (3)</title>\n",
       "<path fill=\"none\" stroke=\"black\" d=\"M20,-8C20,-8 94,-8 94,-8 100,-8 106,-14 106,-20 106,-20 106,-117.82 106,-117.82 106,-123.82 100,-129.82 94,-129.82 94,-129.82 20,-129.82 20,-129.82 14,-129.82 8,-123.82 8,-117.82 8,-117.82 8,-20 8,-20 8,-14 14,-8 20,-8\"/>\n",
       "<text text-anchor=\"middle\" x=\"76.62\" y=\"-15.2\" font-family=\"Times New Roman,serif\" font-size=\"14.00\">year (3)</text>\n",
       "</g>\n",
       "<!-- profit -->\n",
       "<g id=\"node1\" class=\"node\">\n",
       "<title>profit</title>\n",
       "<ellipse fill=\"none\" stroke=\"black\" cx=\"57\" cy=\"-81.16\" rx=\"41.01\" ry=\"40.66\"/>\n",
       "<text text-anchor=\"middle\" x=\"57\" y=\"-92.61\" font-family=\"Times New Roman,serif\" font-size=\"14.00\">profit</text>\n",
       "<text text-anchor=\"middle\" x=\"57\" y=\"-76.11\" font-family=\"Times New Roman,serif\" font-size=\"14.00\">~</text>\n",
       "<text text-anchor=\"middle\" x=\"57\" y=\"-59.61\" font-family=\"Times New Roman,serif\" font-size=\"14.00\">Normal</text>\n",
       "</g>\n",
       "</g>\n",
       "</svg>\n"
      ],
      "text/plain": [
       "<graphviz.graphs.Digraph at 0x2ac4f8228d0>"
      ]
     },
     "execution_count": 84,
     "metadata": {},
     "output_type": "execute_result"
    }
   ],
   "source": [
    "with pm.Model() as model:\n",
    "    pm.Normal(\"profit\", shape = (3,), dims = \"year\")\n",
    "\n",
    "pm.model_to_graphviz(model)"
   ]
  },
  {
   "cell_type": "markdown",
   "metadata": {},
   "source": [
    "```dims``` がますます強力になるのは、モデル自体で指定された ```coords``` を使用する場合です。 これにより、各 ```dim``` エントリに一意のラベルが付けられ、より意味のあるものになります。"
   ]
  },
  {
   "cell_type": "code",
   "execution_count": 85,
   "metadata": {},
   "outputs": [
    {
     "data": {
      "image/svg+xml": [
       "<?xml version=\"1.0\" encoding=\"UTF-8\" standalone=\"no\"?>\n",
       "<!DOCTYPE svg PUBLIC \"-//W3C//DTD SVG 1.1//EN\"\n",
       " \"http://www.w3.org/Graphics/SVG/1.1/DTD/svg11.dtd\">\n",
       "<!-- Generated by graphviz version 9.0.0 (0)\n",
       " -->\n",
       "<!-- Pages: 1 -->\n",
       "<svg width=\"122pt\" height=\"146pt\"\n",
       " viewBox=\"0.00 0.00 122.00 145.82\" xmlns=\"http://www.w3.org/2000/svg\" xmlns:xlink=\"http://www.w3.org/1999/xlink\">\n",
       "<g id=\"graph0\" class=\"graph\" transform=\"scale(1 1) rotate(0) translate(4 141.82)\">\n",
       "<polygon fill=\"white\" stroke=\"none\" points=\"-4,4 -4,-141.82 118,-141.82 118,4 -4,4\"/>\n",
       "<g id=\"clust1\" class=\"cluster\">\n",
       "<title>clusteryear (3)</title>\n",
       "<path fill=\"none\" stroke=\"black\" d=\"M20,-8C20,-8 94,-8 94,-8 100,-8 106,-14 106,-20 106,-20 106,-117.82 106,-117.82 106,-123.82 100,-129.82 94,-129.82 94,-129.82 20,-129.82 20,-129.82 14,-129.82 8,-123.82 8,-117.82 8,-117.82 8,-20 8,-20 8,-14 14,-8 20,-8\"/>\n",
       "<text text-anchor=\"middle\" x=\"76.62\" y=\"-15.2\" font-family=\"Times New Roman,serif\" font-size=\"14.00\">year (3)</text>\n",
       "</g>\n",
       "<!-- profit -->\n",
       "<g id=\"node1\" class=\"node\">\n",
       "<title>profit</title>\n",
       "<ellipse fill=\"none\" stroke=\"black\" cx=\"57\" cy=\"-81.16\" rx=\"41.01\" ry=\"40.66\"/>\n",
       "<text text-anchor=\"middle\" x=\"57\" y=\"-92.61\" font-family=\"Times New Roman,serif\" font-size=\"14.00\">profit</text>\n",
       "<text text-anchor=\"middle\" x=\"57\" y=\"-76.11\" font-family=\"Times New Roman,serif\" font-size=\"14.00\">~</text>\n",
       "<text text-anchor=\"middle\" x=\"57\" y=\"-59.61\" font-family=\"Times New Roman,serif\" font-size=\"14.00\">Normal</text>\n",
       "</g>\n",
       "</g>\n",
       "</svg>\n"
      ],
      "text/plain": [
       "<graphviz.graphs.Digraph at 0x2ac4f805910>"
      ]
     },
     "execution_count": 85,
     "metadata": {},
     "output_type": "execute_result"
    }
   ],
   "source": [
    "coords = {\"year\": [2020, 2021, 2022]}\n",
    "with pm.Model(coords = coords) as model:\n",
    "    pm.Normal(\"profit\", dims = \"year\")\n",
    "\n",
    "pm.model_to_graphviz(model)"
   ]
  },
  {
   "cell_type": "markdown",
   "metadata": {},
   "source": [
    "この場合、分布の次元は実際に使用される ```dims``` によって定義できます。 形状を渡したり、暗黙的にバッチ化されたディメンションを定義したりする必要はありませんでした。\n",
    "\n",
    "多変量正規の例を使用して、さまざまな次元のフレーバーを確認してみましょう。"
   ]
  },
  {
   "cell_type": "code",
   "execution_count": 86,
   "metadata": {},
   "outputs": [
    {
     "data": {
      "image/svg+xml": [
       "<?xml version=\"1.0\" encoding=\"UTF-8\" standalone=\"no\"?>\n",
       "<!DOCTYPE svg PUBLIC \"-//W3C//DTD SVG 1.1//EN\"\n",
       " \"http://www.w3.org/Graphics/SVG/1.1/DTD/svg11.dtd\">\n",
       "<!-- Generated by graphviz version 9.0.0 (0)\n",
       " -->\n",
       "<!-- Pages: 1 -->\n",
       "<svg width=\"492pt\" height=\"146pt\"\n",
       " viewBox=\"0.00 0.00 492.00 145.82\" xmlns=\"http://www.w3.org/2000/svg\" xmlns:xlink=\"http://www.w3.org/1999/xlink\">\n",
       "<g id=\"graph0\" class=\"graph\" transform=\"scale(1 1) rotate(0) translate(4 141.82)\">\n",
       "<polygon fill=\"white\" stroke=\"none\" points=\"-4,4 -4,-141.82 488,-141.82 488,4 -4,4\"/>\n",
       "<g id=\"clust1\" class=\"cluster\">\n",
       "<title>clustersupport (3)</title>\n",
       "<path fill=\"none\" stroke=\"black\" d=\"M20,-8C20,-8 122,-8 122,-8 128,-8 134,-14 134,-20 134,-20 134,-117.82 134,-117.82 134,-123.82 128,-129.82 122,-129.82 122,-129.82 20,-129.82 20,-129.82 14,-129.82 8,-123.82 8,-117.82 8,-117.82 8,-20 8,-20 8,-14 14,-8 20,-8\"/>\n",
       "<text text-anchor=\"middle\" x=\"96\" y=\"-15.2\" font-family=\"Times New Roman,serif\" font-size=\"14.00\">support (3)</text>\n",
       "</g>\n",
       "<g id=\"clust2\" class=\"cluster\">\n",
       "<title>clusterbatch (4) x support (3)</title>\n",
       "<path fill=\"none\" stroke=\"black\" d=\"M154,-8C154,-8 464,-8 464,-8 470,-8 476,-14 476,-20 476,-20 476,-117.82 476,-117.82 476,-123.82 470,-129.82 464,-129.82 464,-129.82 154,-129.82 154,-129.82 148,-129.82 142,-123.82 142,-117.82 142,-117.82 142,-20 142,-20 142,-14 148,-8 154,-8\"/>\n",
       "<text text-anchor=\"middle\" x=\"406.5\" y=\"-15.2\" font-family=\"Times New Roman,serif\" font-size=\"14.00\">batch (4) x support (3)</text>\n",
       "</g>\n",
       "<!-- vector -->\n",
       "<g id=\"node1\" class=\"node\">\n",
       "<title>vector</title>\n",
       "<ellipse fill=\"none\" stroke=\"black\" cx=\"71\" cy=\"-81.16\" rx=\"54.8\" ry=\"40.66\"/>\n",
       "<text text-anchor=\"middle\" x=\"71\" y=\"-92.61\" font-family=\"Times New Roman,serif\" font-size=\"14.00\">vector</text>\n",
       "<text text-anchor=\"middle\" x=\"71\" y=\"-76.11\" font-family=\"Times New Roman,serif\" font-size=\"14.00\">~</text>\n",
       "<text text-anchor=\"middle\" x=\"71\" y=\"-59.61\" font-family=\"Times New Roman,serif\" font-size=\"14.00\">MvNormal</text>\n",
       "</g>\n",
       "<!-- matrix (explicit) -->\n",
       "<g id=\"node2\" class=\"node\">\n",
       "<title>matrix (explicit)</title>\n",
       "<ellipse fill=\"none\" stroke=\"black\" cx=\"394\" cy=\"-81.16\" rx=\"74.42\" ry=\"40.66\"/>\n",
       "<text text-anchor=\"middle\" x=\"394\" y=\"-92.61\" font-family=\"Times New Roman,serif\" font-size=\"14.00\">matrix (explicit)</text>\n",
       "<text text-anchor=\"middle\" x=\"394\" y=\"-76.11\" font-family=\"Times New Roman,serif\" font-size=\"14.00\">~</text>\n",
       "<text text-anchor=\"middle\" x=\"394\" y=\"-59.61\" font-family=\"Times New Roman,serif\" font-size=\"14.00\">MvNormal</text>\n",
       "</g>\n",
       "<!-- matrix (implicit) -->\n",
       "<g id=\"node3\" class=\"node\">\n",
       "<title>matrix (implicit)</title>\n",
       "<ellipse fill=\"none\" stroke=\"black\" cx=\"226\" cy=\"-81.16\" rx=\"76.01\" ry=\"40.66\"/>\n",
       "<text text-anchor=\"middle\" x=\"226\" y=\"-92.61\" font-family=\"Times New Roman,serif\" font-size=\"14.00\">matrix (implicit)</text>\n",
       "<text text-anchor=\"middle\" x=\"226\" y=\"-76.11\" font-family=\"Times New Roman,serif\" font-size=\"14.00\">~</text>\n",
       "<text text-anchor=\"middle\" x=\"226\" y=\"-59.61\" font-family=\"Times New Roman,serif\" font-size=\"14.00\">MvNormal</text>\n",
       "</g>\n",
       "</g>\n",
       "</svg>\n"
      ],
      "text/plain": [
       "<graphviz.graphs.Digraph at 0x2ac4f791b50>"
      ]
     },
     "execution_count": 86,
     "metadata": {},
     "output_type": "execute_result"
    }
   ],
   "source": [
    "coords = {\n",
    "    \"batch\": [0, 1, 2, 3],\n",
    "    \"support\": [\"A\", \"B\", \"C\"],\n",
    "}\n",
    "with pm.Model(coords = coords) as model:\n",
    "    pm.MvNormal(\"vector\", mu = [0, 0, 0], cov = np.eye(3), dims = (\"support\",))\n",
    "    pm.MvNormal(\"matrix (implicit)\", mu = np.zeros((4, 3)), cov = np.eye(3), dims = (\"batch\", \"support\"))\n",
    "    pm.MvNormal(\n",
    "        \"matrix (explicit)\", mu = [0, 0, 0], cov = np.eye(3), shape = (4, 3), dims = (\"batch\", \"support\")\n",
    "    )\n",
    "\n",
    "pm.model_to_graphviz(model)"
   ]
  },
  {
   "cell_type": "markdown",
   "metadata": {},
   "source": [
    "\n",
    "````\n",
    "```Tip\n",
    "最終的なモデルの公開では、ラベルが ```arviz.InferenceData``` に渡されるため、dim と coords を推奨します。 これは、透明性と他の人にとっての読みやすさの両方を実現するベスト プラクティスです。 また、単一の開発者のワークフローにも役立ちます。たとえば、3 次元以上の分布がある場合、どの次元がどのモデルの概念に対応するかを示すのに役立ちます。\n",
    "```\n",
    "````"
   ]
  },
  {
   "cell_type": "markdown",
   "metadata": {},
   "source": [
    "## Tips for debugging shape issues\n",
    "これらすべてのツールは利便性のために提供されており、PyMC はユーザーの意図を理解するために最善を尽くしていますが、混合次元ツールの結果が必ずしも意図した最終次元になるとは限りません。 場合によっては、モデルがサンプリングするまでエラーを示さない場合や、問題をまったく示さない場合があります。 次元を扱う場合、特により複雑なものを推奨します:\n",
    "\n",
    "* ``model_to_graphviz`` を使用してサンプリング前にモデルを視覚化する\n",
    "* ```draw``` または ```sample_prior detective``` を使用してエラーを早期に検出する\n",
    "* 返された ```az.InferenceData``` オブジェクトを検査して、すべての配列サイズが意図したとおりであることを確認します\n",
    "* エラーを追跡するときに素数を使用して形状を定義します。"
   ]
  },
  {
   "cell_type": "code",
   "execution_count": 87,
   "metadata": {},
   "outputs": [
    {
     "name": "stdout",
     "output_type": "stream",
     "text": [
      "The watermark extension is already loaded. To reload it, use:\n",
      "  %reload_ext watermark\n",
      "Last updated: Tue Apr 02 2024\n",
      "\n",
      "Python implementation: CPython\n",
      "Python version       : 3.11.8\n",
      "IPython version      : 8.22.2\n",
      "\n",
      "pytensor: 2.19.0\n",
      "\n",
      "pymc    : 5.12.0\n",
      "pytensor: 2.19.0\n",
      "numpy   : 1.26.4\n",
      "\n",
      "Watermark: 2.4.3\n",
      "\n"
     ]
    }
   ],
   "source": [
    "%load_ext watermark\n",
    "%watermark -n -u -v -iv -w -p pytensor"
   ]
  }
 ],
 "metadata": {
  "kernelspec": {
   "display_name": "pymc_env",
   "language": "python",
   "name": "python3"
  },
  "language_info": {
   "codemirror_mode": {
    "name": "ipython",
    "version": 3
   },
   "file_extension": ".py",
   "mimetype": "text/x-python",
   "name": "python",
   "nbconvert_exporter": "python",
   "pygments_lexer": "ipython3",
   "version": "3.11.8"
  }
 },
 "nbformat": 4,
 "nbformat_minor": 2
}
