{
 "cells": [
  {
   "cell_type": "markdown",
   "metadata": {},
   "source": [
    "# PyMC and PyTensor\n",
    "Authors: Ricardo Vieira and Juan Orduz\n",
    "\n",
    "このノートブックでは、PyMC モデルがどのように PyTensor グラフに変換されるかを紹介したいと思います。 この目的は、```pytensor``` のすべての機能を詳細に説明することではなく、PyMC との関係を理解するために主要な概念に焦点を当てることです。 プロジェクトの詳細については、公式ドキュメントを参照してください。"
   ]
  },
  {
   "cell_type": "markdown",
   "metadata": {},
   "source": [
    "## Prepare Notebook\n",
    "まず必要なライブラリをインポートします。"
   ]
  },
  {
   "cell_type": "code",
   "execution_count": 2,
   "metadata": {},
   "outputs": [],
   "source": [
    "import pytensor\n",
    "import pytensor.tensor as pt\n",
    "import pymc as pm\n",
    "import matplotlib.pyplot as plt\n",
    "import numpy as np\n",
    "import scipy.stats"
   ]
  },
  {
   "cell_type": "markdown",
   "metadata": {},
   "source": [
    "## Introduction to PyTensor\n",
    "まずは ```pytensor```` を調べてみましょう。 彼らの文書によると\n",
    "\n",
    "> PyTensor は、多次元配列を含む数式を定義、最適化、効率的に評価できる Python ライブラリです。"
   ]
  },
  {
   "cell_type": "markdown",
   "metadata": {},
   "source": [
    "### A simple example\n",
    "まず、いくつかの pytensor テンソルを定義し、いくつかの基本的な操作を実行する方法を示します。"
   ]
  },
  {
   "cell_type": "code",
   "execution_count": 3,
   "metadata": {},
   "outputs": [
    {
     "name": "stdout",
     "output_type": "stream",
     "text": [
      "\n",
      "x type: Scalar(float64, shape=())\n",
      "x name = x\n",
      "---\n",
      "y type: Vector(float64, shape=(?,))\n",
      "y name = y\n",
      "\n"
     ]
    }
   ],
   "source": [
    "x = pt.scalar(name = \"x\")\n",
    "y = pt.vector(name = \"y\")\n",
    "\n",
    "print(\n",
    "    f\"\"\"\n",
    "x type: {x.type}\n",
    "x name = {x.name}\n",
    "---\n",
    "y type: {y.type}\n",
    "y name = {y.name}\n",
    "\"\"\"\n",
    ")"
   ]
  },
  {
   "cell_type": "markdown",
   "metadata": {},
   "source": [
    "```x``` テンソルと ```y``` テンソルを定義したので、それらを加算して新しいテンソルを作成できます。"
   ]
  },
  {
   "cell_type": "code",
   "execution_count": 4,
   "metadata": {},
   "outputs": [],
   "source": [
    "z = x + y\n",
    "z.name = \"x + y\""
   ]
  },
  {
   "cell_type": "markdown",
   "metadata": {},
   "source": [
    "計算をもう少し複雑にするために、結果として得られるテンソルの対数を取得してみましょう。"
   ]
  },
  {
   "cell_type": "code",
   "execution_count": 5,
   "metadata": {},
   "outputs": [],
   "source": [
    "w = pt.log(z)\n",
    "w.name = \"log(x + y)\""
   ]
  },
  {
   "cell_type": "markdown",
   "metadata": {},
   "source": [
    "```dprint()``` 関数を使用して、指定されたテンソルの計算グラフを出力できます。"
   ]
  },
  {
   "cell_type": "code",
   "execution_count": 6,
   "metadata": {},
   "outputs": [
    {
     "name": "stdout",
     "output_type": "stream",
     "text": [
      "Log [id A] 'log(x + y)'\n",
      " └─ Add [id B] 'x + y'\n",
      "    ├─ ExpandDims{axis=0} [id C]\n",
      "    │  └─ x [id D]\n",
      "    └─ y [id E]\n"
     ]
    },
    {
     "data": {
      "text/plain": [
       "<ipykernel.iostream.OutStream at 0x238d5f1b250>"
      ]
     },
     "execution_count": 6,
     "metadata": {},
     "output_type": "execute_result"
    }
   ],
   "source": [
    "pytensor.dprint(w)"
   ]
  },
  {
   "cell_type": "markdown",
   "metadata": {},
   "source": [
    "このグラフでは (まだ) 計算が行われていないことに注意してください。 実行するステップの順序を定義するだけです。 [```function()```](https://pytensor.readthedocs.io/en/latest/library/index.html#pytensor.function) を使用して呼び出し可能なオブジェクトを定義し、値をプッシュできます。 グラフを参照してください。"
   ]
  },
  {
   "cell_type": "code",
   "execution_count": 7,
   "metadata": {},
   "outputs": [],
   "source": [
    "f = pytensor.function(inputs = [x, y], outputs = w)"
   ]
  },
  {
   "cell_type": "markdown",
   "metadata": {},
   "source": [
    "グラフがコンパイルされたので、いくつかの具体的な値をプッシュできます:"
   ]
  },
  {
   "cell_type": "code",
   "execution_count": 8,
   "metadata": {},
   "outputs": [
    {
     "data": {
      "text/plain": [
       "array([0., 1.])"
      ]
     },
     "execution_count": 8,
     "metadata": {},
     "output_type": "execute_result"
    }
   ],
   "source": [
    "f(x = 0, y = [1, np.e])"
   ]
  },
  {
   "cell_type": "markdown",
   "metadata": {},
   "source": [
    "````\n",
    "```Tip\n",
    "単にデバッグしたい場合もあります。そのためには ``eval()`` を使用できます。\n",
    "```\n",
    "````"
   ]
  },
  {
   "cell_type": "code",
   "execution_count": 9,
   "metadata": {},
   "outputs": [
    {
     "data": {
      "text/plain": [
       "array([0., 1.])"
      ]
     },
     "execution_count": 9,
     "metadata": {},
     "output_type": "execute_result"
    }
   ],
   "source": [
    "w.eval({x: 0, y: [1, np.e]})"
   ]
  },
  {
   "cell_type": "markdown",
   "metadata": {},
   "source": [
    "### PyTensor is clever!\n",
    "``pytensor```` の最も重要な機能の 1 つは、グラフ内の数学的演算を自動的に最適化できることです。 簡単な例を考えてみましょう"
   ]
  },
  {
   "cell_type": "code",
   "execution_count": 10,
   "metadata": {},
   "outputs": [
    {
     "name": "stdout",
     "output_type": "stream",
     "text": [
      "True_div [id A] 'a / b'\n",
      " ├─ a [id B]\n",
      " └─ b [id C]\n"
     ]
    },
    {
     "data": {
      "text/plain": [
       "<ipykernel.iostream.OutStream at 0x238d5f1b250>"
      ]
     },
     "execution_count": 10,
     "metadata": {},
     "output_type": "execute_result"
    }
   ],
   "source": [
    "a = pt.scalar(name=\"a\")\n",
    "b = pt.scalar(name=\"b\")\n",
    "\n",
    "c = a / b\n",
    "c.name = \"a / b\"\n",
    "\n",
    "pytensor.dprint(c)"
   ]
  },
  {
   "cell_type": "markdown",
   "metadata": {},
   "source": [
    "ここで、``b`` と ``c`` を掛けてみましょう。 これは単に ```a``` という結果になるはずです。"
   ]
  },
  {
   "cell_type": "code",
   "execution_count": 11,
   "metadata": {},
   "outputs": [
    {
     "name": "stdout",
     "output_type": "stream",
     "text": [
      "Mul [id A] 'b * c'\n",
      " ├─ b [id B]\n",
      " └─ True_div [id C] 'a / b'\n",
      "    ├─ a [id D]\n",
      "    └─ b [id B]\n"
     ]
    },
    {
     "data": {
      "text/plain": [
       "<ipykernel.iostream.OutStream at 0x238d5f1b250>"
      ]
     },
     "execution_count": 11,
     "metadata": {},
     "output_type": "execute_result"
    }
   ],
   "source": [
    "d = b * c\n",
    "d.name = \"b * c\"\n",
    "\n",
    "pytensor.dprint(d)"
   ]
  },
  {
   "cell_type": "markdown",
   "metadata": {},
   "source": [
    "グラフは完全な計算を示していますが、それをコンパイルすると、予想どおり、演算は ``a`` 上の恒等になります。"
   ]
  },
  {
   "cell_type": "markdown",
   "metadata": {},
   "source": [
    "### What is in an PyTensor graph?\n",
    "次の図は、``pytensor`` グラフの基本構造を示しています。\n",
    "\n",
    "上のセクションの最初の例でこれらの概念を明示的に示すことで、これらの概念をより具体的にすることができます。 テンソル ```z``` のグラフ成分を計算してみましょう。"
   ]
  },
  {
   "cell_type": "code",
   "execution_count": 12,
   "metadata": {},
   "outputs": [
    {
     "name": "stdout",
     "output_type": "stream",
     "text": [
      "\n",
      "z type: Vector(float64, shape=(?,))\n",
      "z name = x + y\n",
      "z owner = Add(ExpandDims{axis=0}.0, y)\n",
      "z owner inputs = [ExpandDims{axis=0}.0, y]\n",
      "z owner op = Add\n",
      "z owner output = [x + y]\n",
      "\n"
     ]
    }
   ],
   "source": [
    "print(\n",
    "    f\"\"\"\n",
    "z type: {z.type}\n",
    "z name = {z.name}\n",
    "z owner = {z.owner}\n",
    "z owner inputs = {z.owner.inputs}\n",
    "z owner op = {z.owner.op}\n",
    "z owner output = {z.owner.outputs}\n",
    "\"\"\"\n",
    ")"
   ]
  },
  {
   "cell_type": "markdown",
   "metadata": {},
   "source": [
    "次のコード スニペットは、``w`` の計算グラフを確認することで、これらの概念を理解するのに役立ちます。 ここでは実際のコードはそれほど重要ではなく、出力に焦点を当てています。"
   ]
  },
  {
   "cell_type": "code",
   "execution_count": 13,
   "metadata": {},
   "outputs": [
    {
     "name": "stdout",
     "output_type": "stream",
     "text": [
      "---\n",
      "Checking variable log(x + y) of type Vector(float64, shape=(?,))\n",
      " > Op is Log\n",
      " > Input 0 is x + y\n",
      "---\n",
      "Checking variable x + y of type Vector(float64, shape=(?,))\n",
      " > Op is Add\n",
      " > Input 0 is ExpandDims{axis=0}.0\n",
      " > Input 1 is y\n",
      "---\n",
      "Checking variable ExpandDims{axis=0}.0 of type Vector(float64, shape=(1,))\n",
      " > Op is ExpandDims{axis=0}\n",
      " > Input 0 is x\n",
      "---\n",
      "Checking variable y of type Vector(float64, shape=(?,))\n",
      " > y is a root variable\n",
      "---\n",
      "Checking variable x of type Scalar(float64, shape=())\n",
      " > x is a root variable\n"
     ]
    }
   ],
   "source": [
    "# start from the top\n",
    "stack = [w]\n",
    "\n",
    "while stack:\n",
    "    print(\"---\")\n",
    "    var = stack.pop(0)\n",
    "    print(f\"Checking variable {var} of type {var.type}\")\n",
    "    # check variable is not a root variable\n",
    "    if var.owner is not None:\n",
    "        print(f\" > Op is {var.owner.op}\")\n",
    "        # loop over the inputs\n",
    "        for i, input in enumerate(var.owner.inputs):\n",
    "            print(f\" > Input {i} is {input}\")\n",
    "            stack.append(input)\n",
    "    else:\n",
    "        print(f\" > {var} is a root variable\")"
   ]
  },
  {
   "cell_type": "markdown",
   "metadata": {},
   "source": [
    "これは、上で紹介した ```dprint()``` 関数の出力と非常に似ていることに注意してください。"
   ]
  },
  {
   "cell_type": "code",
   "execution_count": 14,
   "metadata": {},
   "outputs": [
    {
     "name": "stdout",
     "output_type": "stream",
     "text": [
      "Log [id A] 'log(x + y)'\n",
      " └─ Add [id B] 'x + y'\n",
      "    ├─ ExpandDims{axis=0} [id C]\n",
      "    │  └─ x [id D]\n",
      "    └─ y [id E]\n"
     ]
    },
    {
     "data": {
      "text/plain": [
       "<ipykernel.iostream.OutStream at 0x238d5f1b250>"
      ]
     },
     "execution_count": 14,
     "metadata": {},
     "output_type": "execute_result"
    }
   ],
   "source": [
    "pytensor.dprint(w)"
   ]
  },
  {
   "cell_type": "markdown",
   "metadata": {},
   "source": [
    "### Graph manipulation 101\n",
    "PyTensor のもう 1 つの興味深い機能は、計算グラフを操作できることですが、これは TensorFlow や PyTorch では不可能です。 ここでは、この手法に関する主なアイデアを説明するために、上記の例を続けます。"
   ]
  },
  {
   "cell_type": "code",
   "execution_count": 15,
   "metadata": {},
   "outputs": [
    {
     "data": {
      "text/plain": [
       "[x, y]"
      ]
     },
     "execution_count": 15,
     "metadata": {},
     "output_type": "execute_result"
    }
   ],
   "source": [
    "# get input tensors\n",
    "list(pytensor.graph.graph_inputs(graphs = [w]))"
   ]
  },
  {
   "cell_type": "markdown",
   "metadata": {},
   "source": [
    "簡単な例として、```log()``` の前に ```exp()``` を追加してみましょう (恒等関数を取得するため)。"
   ]
  },
  {
   "cell_type": "code",
   "execution_count": 16,
   "metadata": {},
   "outputs": [],
   "source": [
    "parent_of_w = w.owner.inputs[0]  # get z tensor\n",
    "new_parent_of_w = pt.exp(parent_of_w)  # modify the parent of w\n",
    "new_parent_of_w.name = \"exp(x + y)\""
   ]
  },
  {
   "cell_type": "markdown",
   "metadata": {},
   "source": [
    "```w``` のグラフは実際には変化していないことに注意してください。"
   ]
  },
  {
   "cell_type": "code",
   "execution_count": 17,
   "metadata": {},
   "outputs": [
    {
     "name": "stdout",
     "output_type": "stream",
     "text": [
      "Log [id A] 'log(x + y)'\n",
      " └─ Add [id B] 'x + y'\n",
      "    ├─ ExpandDims{axis=0} [id C]\n",
      "    │  └─ x [id D]\n",
      "    └─ y [id E]\n"
     ]
    },
    {
     "data": {
      "text/plain": [
       "<ipykernel.iostream.OutStream at 0x238d5f1b250>"
      ]
     },
     "execution_count": 17,
     "metadata": {},
     "output_type": "execute_result"
    }
   ],
   "source": [
    "pytensor.dprint(w)"
   ]
  },
  {
   "cell_type": "markdown",
   "metadata": {},
   "source": [
    "グラフを変更するには、```clone_replace()``` 関数を使用する必要があります。この関数は、対応する置換を含む最初のサブグラフのコピーを返します。"
   ]
  },
  {
   "cell_type": "code",
   "execution_count": 18,
   "metadata": {},
   "outputs": [
    {
     "name": "stdout",
     "output_type": "stream",
     "text": [
      "Log [id A] 'log(exp(x + y))'\n",
      " └─ Exp [id B] 'exp(x + y)'\n",
      "    └─ Add [id C] 'x + y'\n",
      "       ├─ ExpandDims{axis=0} [id D]\n",
      "       │  └─ x [id E]\n",
      "       └─ y [id F]\n"
     ]
    },
    {
     "data": {
      "text/plain": [
       "<ipykernel.iostream.OutStream at 0x238d5f1b250>"
      ]
     },
     "execution_count": 18,
     "metadata": {},
     "output_type": "execute_result"
    }
   ],
   "source": [
    "new_w = pytensor.clone_replace(output = [w], replace = {parent_of_w: new_parent_of_w})[0]\n",
    "new_w.name = \"log(exp(x + y))\"\n",
    "pytensor.dprint(new_w)"
   ]
  },
  {
   "cell_type": "markdown",
   "metadata": {},
   "source": [
    "最後に、新しいグラフに入力を渡すことで、変更されたグラフをテストできます。"
   ]
  },
  {
   "cell_type": "code",
   "execution_count": 19,
   "metadata": {},
   "outputs": [
    {
     "data": {
      "text/plain": [
       "array([1.        , 2.71828183])"
      ]
     },
     "execution_count": 19,
     "metadata": {},
     "output_type": "execute_result"
    }
   ],
   "source": [
    "new_w.eval({x: 0, y: [1, np.e]})"
   ]
  },
  {
   "cell_type": "markdown",
   "metadata": {},
   "source": [
    "予想どおり、新しいグラフは単なる恒等関数です。\n",
    "\n",
    "````\n",
    "```Note\n",
    "繰り返しますが、```pytensor```` は、関数をコンパイルした後に ```exp``` と ```log``` を省略できるほど賢いことに注意してください。\n",
    "```\n",
    "````"
   ]
  },
  {
   "cell_type": "code",
   "execution_count": 20,
   "metadata": {},
   "outputs": [
    {
     "name": "stdout",
     "output_type": "stream",
     "text": [
      "Add [id A] 'x + y' 1\n",
      " ├─ ExpandDims{axis=0} [id B] 0\n",
      " │  └─ x [id C]\n",
      " └─ y [id D]\n"
     ]
    },
    {
     "data": {
      "text/plain": [
       "<ipykernel.iostream.OutStream at 0x238d5f1b250>"
      ]
     },
     "execution_count": 20,
     "metadata": {},
     "output_type": "execute_result"
    }
   ],
   "source": [
    "f = pytensor.function(inputs=[x, y], outputs=new_w)\n",
    "\n",
    "pytensor.dprint(f)"
   ]
  },
  {
   "cell_type": "code",
   "execution_count": 21,
   "metadata": {},
   "outputs": [
    {
     "data": {
      "text/plain": [
       "array([1.        , 2.71828183])"
      ]
     },
     "execution_count": 21,
     "metadata": {},
     "output_type": "execute_result"
    }
   ],
   "source": [
    "f(x=0, y=[1, np.e])"
   ]
  },
  {
   "cell_type": "markdown",
   "metadata": {},
   "source": [
    "### PyTensor RandomVariables\n",
    "pytensor の基本を理解したので、確率変数の方向に進みたいと思います。\n",
    "\n",
    "[```numpy```](https://github.com/numpy/numpy) で乱数を生成するにはどうすればよいですか? これを説明するために、正規分布からサンプリングすることができます。"
   ]
  },
  {
   "cell_type": "code",
   "execution_count": 22,
   "metadata": {},
   "outputs": [
    {
     "data": {
      "image/png": "[encoded data removed]",
      "text/plain": [
       "<Figure size 800x600 with 1 Axes>"
      ]
     },
     "metadata": {},
     "output_type": "display_data"
    }
   ],
   "source": [
    "a = np.random.normal(loc=0, scale=1, size=1_000)\n",
    "\n",
    "fig, ax = plt.subplots(figsize=(8, 6))\n",
    "ax.hist(a, color=\"C0\", bins=15)\n",
    "ax.set(title = \"Samples from a normal distribution using numpy\", ylabel=\"count\");"
   ]
  },
  {
   "cell_type": "markdown",
   "metadata": {},
   "source": [
    "では、PyTensor でそれを実行してみましょう。"
   ]
  },
  {
   "cell_type": "code",
   "execution_count": 23,
   "metadata": {},
   "outputs": [
    {
     "data": {
      "text/plain": [
       "TensorType(float64, shape=())"
      ]
     },
     "execution_count": 23,
     "metadata": {},
     "output_type": "execute_result"
    }
   ],
   "source": [
    "y = pt.random.normal(loc = 0, scale = 1, name = \"y\")\n",
    "y.type"
   ]
  },
  {
   "cell_type": "markdown",
   "metadata": {},
   "source": [
    "次に ``dprint()`` を使ってグラフを表示します。"
   ]
  },
  {
   "cell_type": "code",
   "execution_count": 24,
   "metadata": {},
   "outputs": [
    {
     "name": "stdout",
     "output_type": "stream",
     "text": [
      "normal_rv{0, (0, 0), floatX, False}.1 [id A] 'y'\n",
      " ├─ RandomGeneratorSharedVariable(<Generator(PCG64) at 0x238E16F73E0>) [id B]\n",
      " ├─ [] [id C]\n",
      " ├─ 11 [id D]\n",
      " ├─ 0 [id E]\n",
      " └─ 1 [id F]\n"
     ]
    },
    {
     "data": {
      "text/plain": [
       "<ipykernel.iostream.OutStream at 0x238d5f1b250>"
      ]
     },
     "execution_count": 24,
     "metadata": {},
     "output_type": "execute_result"
    }
   ],
   "source": [
    "pytensor.dprint(y)"
   ]
  },
  {
   "cell_type": "markdown",
   "metadata": {},
   "source": [
    "入力は常に次の順序になります。\n",
    "\n",
    "1. rng shared variable\n",
    "1. size\n",
    "1. dtype (number code)\n",
    "1. arg1\n",
    "1. arg2\n",
    "1. argn\n",
    "\n",
    "```eval()``` を呼び出すことでサンプリングできます。 確率変数について。"
   ]
  },
  {
   "cell_type": "code",
   "execution_count": 25,
   "metadata": {},
   "outputs": [
    {
     "data": {
      "text/plain": [
       "array(-0.48900026)"
      ]
     },
     "execution_count": 25,
     "metadata": {},
     "output_type": "execute_result"
    }
   ],
   "source": [
    "y.eval()"
   ]
  },
  {
   "cell_type": "markdown",
   "metadata": {},
   "source": [
    "ただし、これらのサンプルは常に同じであることに注意してください。"
   ]
  },
  {
   "cell_type": "code",
   "execution_count": 26,
   "metadata": {},
   "outputs": [
    {
     "name": "stdout",
     "output_type": "stream",
     "text": [
      "Sample 0: -0.48900026215456927\n",
      "Sample 1: -0.48900026215456927\n",
      "Sample 2: -0.48900026215456927\n",
      "Sample 3: -0.48900026215456927\n",
      "Sample 4: -0.48900026215456927\n",
      "Sample 5: -0.48900026215456927\n",
      "Sample 6: -0.48900026215456927\n",
      "Sample 7: -0.48900026215456927\n",
      "Sample 8: -0.48900026215456927\n",
      "Sample 9: -0.48900026215456927\n"
     ]
    }
   ],
   "source": [
    "for i in range(10):\n",
    "    print(f\"Sample {i}: {y.eval()}\")"
   ]
  },
  {
   "cell_type": "markdown",
   "metadata": {},
   "source": [
    "いつも同じサンプルが届きます！ これは、グラフのランダム シード ステップ、つまり ```RandomGeneratorSharedVariable``` に関係します (ここでは、この主題については詳しく説明しません)。 以下に ```pymc``` を使用してさまざまなサンプルを生成する方法を示します。"
   ]
  },
  {
   "cell_type": "markdown",
   "metadata": {},
   "source": [
    "## PyMC\n",
    "そのためには、```pymc``` 正規分布を定義することから始めます。"
   ]
  },
  {
   "cell_type": "code",
   "execution_count": 27,
   "metadata": {},
   "outputs": [
    {
     "name": "stdout",
     "output_type": "stream",
     "text": [
      "normal_rv{0, (0, 0), floatX, False}.1 [id A]\n",
      " ├─ RandomGeneratorSharedVariable(<Generator(PCG64) at 0x238E1E7B060>) [id B]\n",
      " ├─ [] [id C]\n",
      " ├─ 11 [id D]\n",
      " ├─ 0 [id E]\n",
      " └─ 1 [id F]\n"
     ]
    },
    {
     "data": {
      "text/plain": [
       "<ipykernel.iostream.OutStream at 0x238d5f1b250>"
      ]
     },
     "execution_count": 27,
     "metadata": {},
     "output_type": "execute_result"
    }
   ],
   "source": [
    "x = pm.Normal.dist(mu = 0, sigma = 1)\n",
    "pytensor.dprint(x)"
   ]
  },
  {
   "cell_type": "markdown",
   "metadata": {},
   "source": [
    "```x``` は単なる通常の ```ランダム変数`` であり、```rng``` を除いて ```y``` と同じであることに注意してください。\n",
    "\n",
    "上記のように ```eval()``` を呼び出してサンプルの生成を試みることができます。"
   ]
  },
  {
   "cell_type": "code",
   "execution_count": 28,
   "metadata": {},
   "outputs": [
    {
     "name": "stdout",
     "output_type": "stream",
     "text": [
      "Sample 0: 0.8232213972965708\n",
      "Sample 1: 0.8232213972965708\n",
      "Sample 2: 0.8232213972965708\n",
      "Sample 3: 0.8232213972965708\n",
      "Sample 4: 0.8232213972965708\n",
      "Sample 5: 0.8232213972965708\n",
      "Sample 6: 0.8232213972965708\n",
      "Sample 7: 0.8232213972965708\n",
      "Sample 8: 0.8232213972965708\n",
      "Sample 9: 0.8232213972965708\n"
     ]
    }
   ],
   "source": [
    "for i in range(10):\n",
    "    print(f\"Sample {i}: {x.eval()}\")"
   ]
  },
  {
   "cell_type": "markdown",
   "metadata": {},
   "source": [
    "前と同様に、すべての反復で同じ値が得られます。 ランダムなサンプルを生成する正しい方法は、```draw()``` を使用することです。"
   ]
  },
  {
   "cell_type": "code",
   "execution_count": 29,
   "metadata": {},
   "outputs": [
    {
     "data": {
      "image/png": "[encoded data removed]",
      "text/plain": [
       "<Figure size 800x600 with 1 Axes>"
      ]
     },
     "metadata": {},
     "output_type": "display_data"
    }
   ],
   "source": [
    "fig, ax = plt.subplots(figsize = (8, 6))\n",
    "ax.hist(pm.draw(x, draws = 1_000), color = \"C1\", bins = 15)\n",
    "ax.set(title=\"Samples from a normal distribution using pymc\", ylabel=\"count\");"
   ]
  },
  {
   "cell_type": "markdown",
   "metadata": {},
   "source": [
    "わーい！ ````pymc```` ディストリビューションからサンプリングする方法を学びました。"
   ]
  },
  {
   "cell_type": "markdown",
   "metadata": {},
   "source": [
    "### What is going on behind the scenes?\n",
    "これが```Model```内でどのように行われるかを見てみましょう。"
   ]
  },
  {
   "cell_type": "code",
   "execution_count": 30,
   "metadata": {},
   "outputs": [
    {
     "name": "stdout",
     "output_type": "stream",
     "text": [
      "normal_rv{0, (0, 0), floatX, False}.1 [id A] 'z'\n",
      " ├─ RandomGeneratorSharedVariable(<Generator(PCG64) at 0x238E229E0A0>) [id B]\n",
      " ├─ [] [id C]\n",
      " ├─ 11 [id D]\n",
      " ├─ [0 0] [id E]\n",
      " └─ [1 2] [id F]\n"
     ]
    },
    {
     "data": {
      "text/plain": [
       "<ipykernel.iostream.OutStream at 0x238d5f1b250>"
      ]
     },
     "execution_count": 30,
     "metadata": {},
     "output_type": "execute_result"
    }
   ],
   "source": [
    "with pm.Model() as model:\n",
    "    z = pm.Normal(name=\"z\", mu=np.array([0, 0]), sigma=np.array([1, 2]))\n",
    "\n",
    "pytensor.dprint(z)"
   ]
  },
  {
   "cell_type": "markdown",
   "metadata": {},
   "source": [
    "前に見たようにランダム変数を作成しているだけですが、今度はそれらを ``pymc`` モデルに登録します。 確率変数のリストを抽出するには、次のようにするだけです:"
   ]
  },
  {
   "cell_type": "code",
   "execution_count": 31,
   "metadata": {},
   "outputs": [
    {
     "data": {
      "text/plain": [
       "[z ~ Normal(<constant>, <constant>)]"
      ]
     },
     "execution_count": 31,
     "metadata": {},
     "output_type": "execute_result"
    }
   ],
   "source": [
    "model.basic_RVs"
   ]
  },
  {
   "cell_type": "code",
   "execution_count": 32,
   "metadata": {},
   "outputs": [
    {
     "name": "stdout",
     "output_type": "stream",
     "text": [
      "normal_rv{0, (0, 0), floatX, False}.1 [id A] 'z'\n",
      " ├─ RandomGeneratorSharedVariable(<Generator(PCG64) at 0x238E229E0A0>) [id B]\n",
      " ├─ [] [id C]\n",
      " ├─ 11 [id D]\n",
      " ├─ [0 0] [id E]\n",
      " └─ [1 2] [id F]\n"
     ]
    },
    {
     "data": {
      "text/plain": [
       "<ipykernel.iostream.OutStream at 0x238d5f1b250>"
      ]
     },
     "execution_count": 32,
     "metadata": {},
     "output_type": "execute_result"
    }
   ],
   "source": [
    "pytensor.dprint(model.basic_RVs[0])"
   ]
  },
  {
   "cell_type": "markdown",
   "metadata": {},
   "source": [
    "上記のように ```eval()``` を介してサンプリングを試みることができますが、各反復で同じサンプルが得られることは驚くべきことではありません。"
   ]
  },
  {
   "cell_type": "code",
   "execution_count": 33,
   "metadata": {},
   "outputs": [
    {
     "name": "stdout",
     "output_type": "stream",
     "text": [
      "Sample 0: [0.49097918 0.22042079]\n",
      "Sample 1: [0.49097918 0.22042079]\n",
      "Sample 2: [0.49097918 0.22042079]\n",
      "Sample 3: [0.49097918 0.22042079]\n",
      "Sample 4: [0.49097918 0.22042079]\n",
      "Sample 5: [0.49097918 0.22042079]\n",
      "Sample 6: [0.49097918 0.22042079]\n",
      "Sample 7: [0.49097918 0.22042079]\n",
      "Sample 8: [0.49097918 0.22042079]\n",
      "Sample 9: [0.49097918 0.22042079]\n"
     ]
    }
   ],
   "source": [
    "for i in range(10):\n",
    "    print(f\"Sample {i}: {z.eval()}\")"
   ]
  },
  {
   "cell_type": "markdown",
   "metadata": {},
   "source": [
    "繰り返しますが、サンプリングの正しい方法は ```draw()``` を使用することです。"
   ]
  },
  {
   "cell_type": "code",
   "execution_count": 34,
   "metadata": {},
   "outputs": [
    {
     "name": "stdout",
     "output_type": "stream",
     "text": [
      "Sample 0: [-2.35504343  0.24653441]\n",
      "Sample 1: [ 1.38769954 -0.03736549]\n",
      "Sample 2: [-0.83425029 -0.30935402]\n",
      "Sample 3: [-0.25626728 -0.67918619]\n",
      "Sample 4: [0.94461289 2.11103693]\n",
      "Sample 5: [-0.81395873  0.06716795]\n",
      "Sample 6: [-0.14677803 -0.57965675]\n",
      "Sample 7: [0.1860871  2.30573667]\n",
      "Sample 8: [-0.32586756  0.79006579]\n",
      "Sample 9: [-2.14798973 -0.17793922]\n"
     ]
    }
   ],
   "source": [
    "for i in range(10):\n",
    "    print(f\"Sample {i}: {pm.draw(z)}\")"
   ]
  },
  {
   "cell_type": "code",
   "execution_count": 35,
   "metadata": {},
   "outputs": [
    {
     "data": {
      "text/plain": [
       "[Text(0.5, 1.0, 'Samples Histogram')]"
      ]
     },
     "execution_count": 35,
     "metadata": {},
     "output_type": "execute_result"
    },
    {
     "data": {
      "image/png": "[encoded data removed]",
      "text/plain": [
       "<Figure size 800x800 with 1 Axes>"
      ]
     },
     "metadata": {},
     "output_type": "display_data"
    }
   ],
   "source": [
    "fig, ax = plt.subplots(figsize = (8, 8))\n",
    "z_draws = pm.draw(vars = z, draws = 10_000)\n",
    "ax.hist2d(x = z_draws[:, 0], y = z_draws[:, 1], bins = 25)\n",
    "ax.set(title = \"Samples Histogram\")"
   ]
  },
  {
   "cell_type": "markdown",
   "metadata": {},
   "source": [
    "### Enough with Random Variables, I want to see some (log)probabilities!\n",
    "上記で次のモデルを定義したことを思い出してください:"
   ]
  },
  {
   "cell_type": "code",
   "execution_count": 36,
   "metadata": {},
   "outputs": [
    {
     "data": {
      "text/latex": [
       "$$\n",
       "            \\begin{array}{rcl}\n",
       "            \\text{z} &\\sim & \\operatorname{Normal}(\\text{<constant>},~\\text{<constant>})\n",
       "            \\end{array}\n",
       "            $$"
      ],
      "text/plain": [
       "z ~ Normal(<constant>, <constant>)"
      ]
     },
     "execution_count": 36,
     "metadata": {},
     "output_type": "execute_result"
    }
   ],
   "source": [
    "model"
   ]
  },
  {
   "cell_type": "markdown",
   "metadata": {},
   "source": [
    "```pymc``` は ```RandomVariables``` をそれぞれの確率関数に変換できます。 簡単な方法の 1 つは、``logp()`` を使用することです。これは、最初の入力として RandomVariable を受け取り、2 番目の入力として logp が評価される値を受け取ります (これについては後で詳しく説明します)。"
   ]
  },
  {
   "cell_type": "code",
   "execution_count": 37,
   "metadata": {},
   "outputs": [],
   "source": [
    "z_value = pt.vector(name = \"z\")\n",
    "z_logp = pm.logp(rv = z, value = z_value)"
   ]
  },
  {
   "cell_type": "markdown",
   "metadata": {},
   "source": [
    "```z_logp``` には、```z_value``` で評価された通常の確率変数 ```z``` の対数確率を表す PyTensor グラフが含まれています。"
   ]
  },
  {
   "cell_type": "code",
   "execution_count": 38,
   "metadata": {},
   "outputs": [
    {
     "name": "stdout",
     "output_type": "stream",
     "text": [
      "Check{sigma > 0} [id A] 'z_logprob'\n",
      " ├─ Sub [id B]\n",
      " │  ├─ Sub [id C]\n",
      " │  │  ├─ Mul [id D]\n",
      " │  │  │  ├─ ExpandDims{axis=0} [id E]\n",
      " │  │  │  │  └─ -0.5 [id F]\n",
      " │  │  │  └─ Pow [id G]\n",
      " │  │  │     ├─ True_div [id H]\n",
      " │  │  │     │  ├─ Sub [id I]\n",
      " │  │  │     │  │  ├─ z [id J]\n",
      " │  │  │     │  │  └─ [0 0] [id K]\n",
      " │  │  │     │  └─ [1 2] [id L]\n",
      " │  │  │     └─ ExpandDims{axis=0} [id M]\n",
      " │  │  │        └─ 2 [id N]\n",
      " │  │  └─ ExpandDims{axis=0} [id O]\n",
      " │  │     └─ Log [id P]\n",
      " │  │        └─ Sqrt [id Q]\n",
      " │  │           └─ 6.283185307179586 [id R]\n",
      " │  └─ Log [id S]\n",
      " │     └─ [1 2] [id L]\n",
      " └─ All{axes=None} [id T]\n",
      "    └─ MakeVector{dtype='bool'} [id U]\n",
      "       └─ All{axes=None} [id V]\n",
      "          └─ Gt [id W]\n",
      "             ├─ [1 2] [id L]\n",
      "             └─ ExpandDims{axis=0} [id X]\n",
      "                └─ 0 [id Y]\n"
     ]
    },
    {
     "data": {
      "text/plain": [
       "<ipykernel.iostream.OutStream at 0x238d5f1b250>"
      ]
     },
     "execution_count": 38,
     "metadata": {},
     "output_type": "execute_result"
    }
   ],
   "source": [
    "pytensor.dprint(z_logp)"
   ]
  },
  {
   "cell_type": "markdown",
   "metadata": {},
   "source": [
    "````\n",
    "```Tip\n",
    "確率変数 ``logcdf()`` の対数累積確率を計算するための便利な ``pymc`` 関数もあります。\n",
    "```\n",
    "````\n",
    "\n",
    "冒頭で説明したように、まだ計算が行われていないことに注目してください。 実際の計算は、入力をコンパイルして渡した後に実行されます。 説明のみを目的として、便利な ```eval()``` メソッドを再度使用します。"
   ]
  },
  {
   "cell_type": "code",
   "execution_count": 39,
   "metadata": {},
   "outputs": [
    {
     "data": {
      "text/plain": [
       "array([-0.91893853, -1.61208571])"
      ]
     },
     "execution_count": 39,
     "metadata": {},
     "output_type": "execute_result"
    }
   ],
   "source": [
    "z_logp.eval({z_value: [0, 0]})"
   ]
  },
  {
   "cell_type": "markdown",
   "metadata": {},
   "source": [
    "これは正規分布の対数確率を評価することに他なりません。"
   ]
  },
  {
   "cell_type": "code",
   "execution_count": 40,
   "metadata": {},
   "outputs": [
    {
     "data": {
      "text/plain": [
       "array([-0.91893853, -1.61208571])"
      ]
     },
     "execution_count": 40,
     "metadata": {},
     "output_type": "execute_result"
    }
   ],
   "source": [
    "scipy.stats.norm.logpdf(x=np.array([0, 0]), loc=np.array([0, 0]), scale=np.array([1, 2]))"
   ]
  },
  {
   "cell_type": "markdown",
   "metadata": {},
   "source": [
    "```pymc``` モデルは、```RandomVariables``` から確率関数への変換を容易にするいくつかの便利なルーチンを提供します。 たとえば、```logp()``` を使用すると、モデル内のすべての変数の同時確率を抽出できます。"
   ]
  },
  {
   "cell_type": "code",
   "execution_count": 41,
   "metadata": {},
   "outputs": [
    {
     "name": "stdout",
     "output_type": "stream",
     "text": [
      "Check{sigma > 0} [id A] 'z_logprob'\n",
      " ├─ Sub [id B]\n",
      " │  ├─ Sub [id C]\n",
      " │  │  ├─ Mul [id D]\n",
      " │  │  │  ├─ ExpandDims{axis=0} [id E]\n",
      " │  │  │  │  └─ -0.5 [id F]\n",
      " │  │  │  └─ Pow [id G]\n",
      " │  │  │     ├─ True_div [id H]\n",
      " │  │  │     │  ├─ Sub [id I]\n",
      " │  │  │     │  │  ├─ z [id J]\n",
      " │  │  │     │  │  └─ [0 0] [id K]\n",
      " │  │  │     │  └─ [1 2] [id L]\n",
      " │  │  │     └─ ExpandDims{axis=0} [id M]\n",
      " │  │  │        └─ 2 [id N]\n",
      " │  │  └─ ExpandDims{axis=0} [id O]\n",
      " │  │     └─ Log [id P]\n",
      " │  │        └─ Sqrt [id Q]\n",
      " │  │           └─ 6.283185307179586 [id R]\n",
      " │  └─ Log [id S]\n",
      " │     └─ [1 2] [id L]\n",
      " └─ All{axes=None} [id T]\n",
      "    └─ MakeVector{dtype='bool'} [id U]\n",
      "       └─ All{axes=None} [id V]\n",
      "          └─ Gt [id W]\n",
      "             ├─ [1 2] [id L]\n",
      "             └─ ExpandDims{axis=0} [id X]\n",
      "                └─ 0 [id Y]\n"
     ]
    },
    {
     "data": {
      "text/plain": [
       "<ipykernel.iostream.OutStream at 0x238d5f1b250>"
      ]
     },
     "execution_count": 41,
     "metadata": {},
     "output_type": "execute_result"
    }
   ],
   "source": [
    "pytensor.dprint(model.logp(sum = False))"
   ]
  },
  {
   "cell_type": "markdown",
   "metadata": {},
   "source": [
    "変数は 1 つだけなので、この関数は以前に手動で ``pm.logp`` を呼び出して取得したものと同等です。 ヘルパー ```compile_logp()``` を使用して、モデル logp のコンパイル済みの PyTensor 関数を返すこともできます。"
   ]
  },
  {
   "cell_type": "code",
   "execution_count": 42,
   "metadata": {},
   "outputs": [],
   "source": [
    "logp_function = model.compile_logp(sum = False)"
   ]
  },
  {
   "cell_type": "markdown",
   "metadata": {},
   "source": [
    "この関数は、入力として「ポイント」辞書を想定します。 自分で作成することもできますが、もう 1 つの便利な ```Model``` メソッドを説明するために、 ```initial_point()``` を呼び出してみましょう。これは、サンプリングを開始する場所を決定するときにほとんどのサンプラーが使用するポイントを返します。"
   ]
  },
  {
   "cell_type": "code",
   "execution_count": 43,
   "metadata": {},
   "outputs": [
    {
     "data": {
      "text/plain": [
       "{'z': array([0., 0.])}"
      ]
     },
     "execution_count": 43,
     "metadata": {},
     "output_type": "execute_result"
    }
   ],
   "source": [
    "point = model.initial_point()\n",
    "point"
   ]
  },
  {
   "cell_type": "code",
   "execution_count": 44,
   "metadata": {},
   "outputs": [
    {
     "data": {
      "text/plain": [
       "[array([-0.91893853, -1.61208571])]"
      ]
     },
     "execution_count": 44,
     "metadata": {},
     "output_type": "execute_result"
    }
   ],
   "source": [
    "logp_function(point)"
   ]
  },
  {
   "cell_type": "markdown",
   "metadata": {},
   "source": [
    "### What are value variables and why are they important?\n",
    "上で見たように、logp グラフには確率変数がありません。 代わりに、入力 (値) 変数に関して定義されます。 サンプリングする場合、各確率変数 (RV) は、それぞれの入力 (値) 変数で評価される logp 関数に置き換えられます。 いくつかの例を通してこれがどのように機能するかを見てみましょう。 RV 変数と値変数は、次の ```scipy``` 操作で確認できます。"
   ]
  },
  {
   "cell_type": "code",
   "execution_count": 45,
   "metadata": {},
   "outputs": [
    {
     "data": {
      "text/plain": [
       "<scipy.stats._distn_infrastructure.rv_continuous_frozen at 0x238e16ebc10>"
      ]
     },
     "execution_count": 45,
     "metadata": {},
     "output_type": "execute_result"
    }
   ],
   "source": [
    "rv = scipy.stats.norm(0, 1)\n",
    "\n",
    "# Equivalent to rv = pm.Normal(\"rv\", 0, 1)\n",
    "scipy.stats.norm(0, 1)"
   ]
  },
  {
   "cell_type": "code",
   "execution_count": 46,
   "metadata": {},
   "outputs": [
    {
     "data": {
      "text/plain": [
       "array([ 0.04714609,  1.10160755, -0.38712512])"
      ]
     },
     "execution_count": 46,
     "metadata": {},
     "output_type": "execute_result"
    }
   ],
   "source": [
    "# Equivalent to rv_draw = pm.draw(rv, 3)\n",
    "rv.rvs(3)"
   ]
  },
  {
   "cell_type": "code",
   "execution_count": 47,
   "metadata": {},
   "outputs": [
    {
     "data": {
      "text/plain": [
       "-1.7001885332046727"
      ]
     },
     "execution_count": 47,
     "metadata": {},
     "output_type": "execute_result"
    }
   ],
   "source": [
    "# Equivalent to rv_logp = pm.logp(rv, 1.25)\n",
    "rv.logpdf(1.25)"
   ]
  },
  {
   "cell_type": "markdown",
   "metadata": {},
   "source": [
    "次に、これらの値変数がもう少し複雑なモデルでどのように動作するかを見てみましょう。"
   ]
  },
  {
   "cell_type": "code",
   "execution_count": 48,
   "metadata": {},
   "outputs": [],
   "source": [
    "with pm.Model() as model_2:\n",
    "    mu = pm.Normal(name = \"mu\", mu = 0, sigma = 2)\n",
    "    sigma = pm.HalfNormal(name = \"sigma\", sigma = 3)\n",
    "    x = pm.Normal(name = \"x\", mu = mu, sigma = sigma)"
   ]
  },
  {
   "cell_type": "markdown",
   "metadata": {},
   "source": [
    "各モデル RV は「値変数」に関連付けられます"
   ]
  },
  {
   "cell_type": "code",
   "execution_count": 49,
   "metadata": {},
   "outputs": [
    {
     "data": {
      "text/plain": [
       "{mu ~ Normal(0, 2): mu,\n",
       " sigma ~ HalfNormal(0, 3): sigma_log__,\n",
       " x ~ Normal(mu, sigma): x}"
      ]
     },
     "execution_count": 49,
     "metadata": {},
     "output_type": "execute_result"
    }
   ],
   "source": [
    "model_2.rvs_to_values"
   ]
  },
  {
   "cell_type": "markdown",
   "metadata": {},
   "source": [
    "実際には、NUTS サンプリングには無制限の値が必要であるため、シグマの場合、関連する値が対数スケールであることに注意してください。"
   ]
  },
  {
   "cell_type": "code",
   "execution_count": 50,
   "metadata": {},
   "outputs": [
    {
     "data": {
      "text/plain": [
       "[mu, sigma_log__, x]"
      ]
     },
     "execution_count": 50,
     "metadata": {},
     "output_type": "execute_result"
    }
   ],
   "source": [
    "model_2.value_vars"
   ]
  },
  {
   "cell_type": "markdown",
   "metadata": {},
   "source": [
    "モデル変数を抽出する方法がわかったので、特定の値に対するモデルの要素ごとの対数確率を計算できます。"
   ]
  },
  {
   "cell_type": "code",
   "execution_count": 51,
   "metadata": {},
   "outputs": [
    {
     "data": {
      "text/plain": [
       "array([ -1.61208572, -11.32440366,   9.08106147])"
      ]
     },
     "execution_count": 51,
     "metadata": {},
     "output_type": "execute_result"
    }
   ],
   "source": [
    "# extract values as pytensor.tensor.var.TensorVariable\n",
    "mu_value = model_2.rvs_to_values[mu]\n",
    "sigma_log_value = model_2.rvs_to_values[sigma]\n",
    "x_value = model_2.rvs_to_values[x]\n",
    "# element-wise log-probability of the model (we do not take te sum)\n",
    "logp_graph = pt.stack(model_2.logp(sum=False))\n",
    "# evaluate by passing concrete values\n",
    "logp_graph.eval({mu_value: 0, sigma_log_value: -10, x_value: 0})"
   ]
  },
  {
   "cell_type": "markdown",
   "metadata": {},
   "source": [
    "これは次と同等です。"
   ]
  },
  {
   "cell_type": "code",
   "execution_count": 52,
   "metadata": {},
   "outputs": [
    {
     "name": "stdout",
     "output_type": "stream",
     "text": [
      "\n",
      "mu_value -> -1.612085713764618\n",
      "sigma_log_value -> -11.324403641427345 \n",
      "x_value -> 9.081061466795328\n",
      "\n"
     ]
    }
   ],
   "source": [
    "print(\n",
    "    f\"\"\"\n",
    "mu_value -> {scipy.stats.norm.logpdf(x=0, loc=0, scale=2)}\n",
    "sigma_log_value -> {- 10 + scipy.stats.halfnorm.logpdf(x=np.exp(-10), loc=0, scale=3)} \n",
    "x_value -> {scipy.stats.norm.logpdf(x=0, loc=0, scale=np.exp(-10))}\n",
    "\"\"\"\n",
    ")"
   ]
  },
  {
   "cell_type": "markdown",
   "metadata": {},
   "source": [
    "````\n",
    "```Note\n",
    "```sigma_log_value``` については、ヤコビアンのために ```scipy``` と ```pytensor``` に一致する $-10$ 項を追加します。\n",
    "```\n",
    "````\n",
    "\n",
    "すでに見たように、メソッド ```compile_logp()``` を使用して、モデル logp のコンパイル済み pytensor 関数を取得することもできます。これは、```{値変数名 : 値}``` の辞書を受け取ります。 入力"
   ]
  },
  {
   "cell_type": "code",
   "execution_count": 53,
   "metadata": {},
   "outputs": [
    {
     "data": {
      "text/plain": [
       "[array(-1.61208572), array(-11.32440366), array(9.08106147)]"
      ]
     },
     "execution_count": 53,
     "metadata": {},
     "output_type": "execute_result"
    }
   ],
   "source": [
    "model_2.compile_logp(sum = False)({\"mu\": 0, \"sigma_log__\": -10, \"x\": 0})"
   ]
  },
  {
   "cell_type": "markdown",
   "metadata": {},
   "source": [
    "```Model``` クラスには、logp の勾配 (```dlogp()```) とヘッセ行列 (```d2logp()```) を抽出するメソッドもあります。\n",
    "\n",
    "``pytensor`` RandomVariables および ``pymc`` ディストリビューションの内部をさらに詳しく知りたい場合は、ディストリビューション開発者ガイドを参照してください。"
   ]
  },
  {
   "cell_type": "code",
   "execution_count": 54,
   "metadata": {},
   "outputs": [
    {
     "name": "stdout",
     "output_type": "stream",
     "text": [
      "Last updated: Wed Apr 03 2024\n",
      "\n",
      "Python implementation: CPython\n",
      "Python version       : 3.11.8\n",
      "IPython version      : 8.22.2\n",
      "\n",
      "pytensor: 2.19.0\n",
      "\n",
      "pymc      : 5.12.0\n",
      "numpy     : 1.26.4\n",
      "pytensor  : 2.19.0\n",
      "scipy     : 1.12.0\n",
      "matplotlib: 3.8.3\n",
      "\n",
      "Watermark: 2.4.3\n",
      "\n"
     ]
    }
   ],
   "source": [
    "%load_ext watermark\n",
    "%watermark -n -u -v -iv -w -p pytensor"
   ]
  }
 ],
 "metadata": {
  "kernelspec": {
   "display_name": "pymc_env",
   "language": "python",
   "name": "python3"
  },
  "language_info": {
   "codemirror_mode": {
    "name": "ipython",
    "version": 3
   },
   "file_extension": ".py",
   "mimetype": "text/x-python",
   "name": "python",
   "nbconvert_exporter": "python",
   "pygments_lexer": "ipython3",
   "version": "3.11.8"
  }
 },
 "nbformat": 4,
 "nbformat_minor": 2
}
