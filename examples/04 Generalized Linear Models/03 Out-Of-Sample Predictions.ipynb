{
 "cells": [
  {
   "cell_type": "markdown",
   "metadata": {},
   "source": [
    "# Out-Of-Sample Predictions"
   ]
  },
  {
   "cell_type": "code",
   "execution_count": null,
   "metadata": {},
   "outputs": [],
   "source": [
    "import arviz as az\n",
    "import matplotlib.pyplot as plt\n",
    "import numpy as np\n",
    "import pandas as pd\n",
    "import pymc as pm\n",
    "import seaborn as sns\n",
    "\n",
    "from scipy.special import expit as inverse_logit\n",
    "from sklearn.metrics import RocCurveDisplay, auc, roc_curve"
   ]
  },
  {
   "cell_type": "code",
   "execution_count": null,
   "metadata": {},
   "outputs": [],
   "source": [
    "RANDOM_SEED = 8927\n",
    "rng = np.random.default_rng(RANDOM_SEED)\n",
    "az.style.use(\"arviz-darkgrid\")"
   ]
  },
  {
   "cell_type": "markdown",
   "metadata": {},
   "source": [
    "## Generate Sample Data"
   ]
  },
  {
   "cell_type": "markdown",
   "metadata": {},
   "source": [
    "We want to fit a logistic regression model where there is a multiplicative interaction between two numerical features."
   ]
  },
  {
   "cell_type": "code",
   "execution_count": null,
   "metadata": {},
   "outputs": [],
   "source": [
    "# Number of data points\n",
    "n = 250\n",
    "# Create features\n",
    "x1 = rng.normal(loc=0.0, scale=2.0, size=n)\n",
    "x2 = rng.normal(loc=0.0, scale=2.0, size=n)\n",
    "# Define target variable\n",
    "intercept = -0.5\n",
    "beta_x1 = 1\n",
    "beta_x2 = -1\n",
    "beta_interaction = 2\n",
    "z = intercept + beta_x1 * x1 + beta_x2 * x2 + beta_interaction * x1 * x2\n",
    "p = inverse_logit(z)\n",
    "# note binomial with n=1 is equal to a Bernoulli\n",
    "y = rng.binomial(n=1, p=p, size=n)\n",
    "df = pd.DataFrame(dict(x1=x1, x2=x2, y=y))\n",
    "df.head()"
   ]
  },
  {
   "cell_type": "markdown",
   "metadata": {},
   "source": [
    "Let us do some exploration of the data:"
   ]
  },
  {
   "cell_type": "code",
   "execution_count": null,
   "metadata": {},
   "outputs": [],
   "source": [
    "sns.pairplot(data=df, kind=\"scatter\");"
   ]
  },
  {
   "cell_type": "markdown",
   "metadata": {},
   "source": [
    "* $x_1$ and $x_2$ are not correlated.\n",
    "* $x_1$ and $x_2$ do not seem to separate the $y$ -classes independently.\n",
    "* The distribution of $y$ is not highly unbalanced."
   ]
  },
  {
   "cell_type": "code",
   "execution_count": null,
   "metadata": {},
   "outputs": [],
   "source": [
    "fig, ax = plt.subplots()\n",
    "sns.scatterplot(x=\"x1\", y=\"x2\", data=df, hue=\"y\")\n",
    "ax.legend(title=\"y\")\n",
    "ax.set(title=\"Sample Data\", xlim=(-9, 9), ylim=(-9, 9));"
   ]
  },
  {
   "cell_type": "markdown",
   "metadata": {},
   "source": [
    "## Prepare Data for Modeling"
   ]
  },
  {
   "cell_type": "code",
   "execution_count": null,
   "metadata": {},
   "outputs": [],
   "source": [
    "labels = [\"Intercept\", \"x1\", \"x2\", \"x1:x2\"]\n",
    "df[\"Intercept\"] = np.ones(len(df))\n",
    "df[\"x1:x2\"] = df[\"x1\"] * df[\"x2\"]\n",
    "# reorder columns to be in the same order as labels\n",
    "df = df[labels]\n",
    "x = df.to_numpy()"
   ]
  },
  {
   "cell_type": "markdown",
   "metadata": {},
   "source": [
    "Now we do a train-test split."
   ]
  },
  {
   "cell_type": "code",
   "execution_count": null,
   "metadata": {},
   "outputs": [],
   "source": [
    "indices = rng.permutation(x.shape[0])\n",
    "train_prop = 0.7\n",
    "train_size = int(train_prop * x.shape[0])\n",
    "training_idx, test_idx = indices[:train_size], indices[train_size:]\n",
    "x_train, x_test = x[training_idx, :], x[test_idx, :]\n",
    "y_train, y_test = y[training_idx], y[test_idx]"
   ]
  },
  {
   "cell_type": "markdown",
   "metadata": {},
   "source": [
    "## Define and Fit the Model"
   ]
  },
  {
   "cell_type": "markdown",
   "metadata": {},
   "source": [
    "We now specify the model in PyMC."
   ]
  },
  {
   "cell_type": "code",
   "execution_count": null,
   "metadata": {},
   "outputs": [],
   "source": [
    "coords = {\"coeffs\": labels}\n",
    "\n",
    "with pm.Model(coords=coords) as model:\n",
    "    # data containers\n",
    "    X = pm.MutableData(\"X\", x_train)\n",
    "    y = pm.MutableData(\"y\", y_train)\n",
    "    # priors\n",
    "    b = pm.Normal(\"b\", mu=0, sigma=1, dims=\"coeffs\")\n",
    "    # linear model\n",
    "    mu = pm.math.dot(X, b)\n",
    "    # link function\n",
    "    p = pm.Deterministic(\"p\", pm.math.invlogit(mu))\n",
    "    # likelihood\n",
    "    pm.Bernoulli(\"obs\", p=p, observed=y)\n",
    "\n",
    "pm.model_to_graphviz(model)"
   ]
  },
  {
   "cell_type": "code",
   "execution_count": null,
   "metadata": {},
   "outputs": [],
   "source": [
    "with model:\n",
    "    idata = pm.sample()"
   ]
  },
  {
   "cell_type": "code",
   "execution_count": null,
   "metadata": {},
   "outputs": [],
   "source": [
    "az.plot_trace(idata, var_names=\"b\", compact=False);"
   ]
  },
  {
   "cell_type": "markdown",
   "metadata": {},
   "source": [
    "The chains look good."
   ]
  },
  {
   "cell_type": "code",
   "execution_count": null,
   "metadata": {},
   "outputs": [],
   "source": [
    "az.summary(idata, var_names=\"b\")"
   ]
  },
  {
   "cell_type": "markdown",
   "metadata": {},
   "source": [
    "And we do a good job of recovering the true parameters for this simulated dataset."
   ]
  },
  {
   "cell_type": "code",
   "execution_count": null,
   "metadata": {},
   "outputs": [],
   "source": [
    "az.plot_posterior(\n",
    "    idata, var_names=[\"b\"], ref_val=[intercept, beta_x1, beta_x2, beta_interaction], figsize=(15, 4)\n",
    ");"
   ]
  },
  {
   "cell_type": "markdown",
   "metadata": {},
   "source": [
    "## Generate Out-Of-Sample Predictions"
   ]
  },
  {
   "cell_type": "markdown",
   "metadata": {},
   "source": [
    "Now we generate predictions on the test set."
   ]
  },
  {
   "cell_type": "code",
   "execution_count": null,
   "metadata": {},
   "outputs": [],
   "source": [
    "with model:\n",
    "    pm.set_data({\"X\": x_test, \"y\": y_test})\n",
    "    idata.extend(pm.sample_posterior_predictive(idata))"
   ]
  },
  {
   "cell_type": "code",
   "execution_count": null,
   "metadata": {},
   "outputs": [],
   "source": [
    "# Compute the point prediction by taking the mean and defining the category via a threshold.\n",
    "p_test_pred = idata.posterior_predictive[\"obs\"].mean(dim=[\"chain\", \"draw\"])\n",
    "y_test_pred = (p_test_pred >= 0.5).astype(\"int\").to_numpy()"
   ]
  },
  {
   "cell_type": "markdown",
   "metadata": {},
   "source": [
    "## Evaluate Model"
   ]
  },
  {
   "cell_type": "markdown",
   "metadata": {},
   "source": [
    "First let us compute the accuracy on the test set."
   ]
  },
  {
   "cell_type": "code",
   "execution_count": null,
   "metadata": {},
   "outputs": [],
   "source": [
    "print(f\"accuracy = {np.mean(y_test==y_test_pred): 0.3f}\")"
   ]
  },
  {
   "cell_type": "markdown",
   "metadata": {},
   "source": [
    "Next, we plot the [roc curve](https://en.wikipedia.org/wiki/Receiver_operating_characteristic) and compute the [auc](https://en.wikipedia.org/wiki/Receiver_operating_characteristic#Area_under_the_curve)."
   ]
  },
  {
   "cell_type": "code",
   "execution_count": null,
   "metadata": {},
   "outputs": [],
   "source": [
    "fpr, tpr, thresholds = roc_curve(\n",
    "    y_true=y_test, y_score=p_test_pred, pos_label=1, drop_intermediate=False\n",
    ")\n",
    "roc_auc = auc(fpr, tpr)\n",
    "\n",
    "fig, ax = plt.subplots()\n",
    "roc_display = RocCurveDisplay(fpr=fpr, tpr=tpr, roc_auc=roc_auc)\n",
    "roc_display = roc_display.plot(ax=ax, marker=\"o\", markersize=4)\n",
    "ax.set(title=\"ROC\");"
   ]
  },
  {
   "cell_type": "markdown",
   "metadata": {},
   "source": [
    "The model is performing as expected (we of course know the data generating process, which is almost never the case in practical applications)."
   ]
  },
  {
   "cell_type": "markdown",
   "metadata": {},
   "source": [
    "## Model Decision Boundary"
   ]
  },
  {
   "cell_type": "markdown",
   "metadata": {},
   "source": [
    "Finally we will describe and plot the model decision boundary, which is the space defined as\n",
    "\n",
    "$$\n",
    "\\mathcal{B} = \\bigl \\{ (x_1, x_2) \\in \\mathbb{R}^2 | p (x_1, x_2) = 0.5 \\bigr \\}\n",
    "$$\n",
    "\n",
    "where $p$ denotes the probability of belonging to the class $y = 1$ output by the model. To make this set explicit, we simply write the condition in terms of the model parametrization:\n",
    "\n",
    "$$\n",
    "0.5 = \\frac{1}{ 1 + exp \\bigl ( - ( \\beta_0 + \\beta_1 x_1 + \\beta_1 x_1 + \\beta_2 x_2 + \\beta_{12} x_1 x_2 ) \\bigr ) }\n",
    "$$\n",
    "\n",
    "which implies\n",
    "\n",
    "$$\n",
    "0 = \\beta_0 + \\beta_1 x_1 + \\beta_1 x_1 + \\beta_2 x_2 + \\beta_{12} x_1 x_2\n",
    "$$\n",
    "\n",
    "Solving for $x_2$ we get the formula\n",
    "\n",
    "$$\n",
    "x_2 = - \\frac{\\beta_0 + \\beta_1 x_1}{\\beta_2 + \\beta _{12}x_1}\n",
    "$$\n",
    "\n",
    "Observe that this curve is a hyperbola centered at the singularity point $x_1 = - \\beta_2 / \\beta_{12}$\n",
    ".\n",
    "\n",
    "Let us now plot the model decision boundary using a grid:"
   ]
  },
  {
   "cell_type": "code",
   "execution_count": null,
   "metadata": {},
   "outputs": [],
   "source": [
    "def make_grid():\n",
    "    x1_grid = np.linspace(start=-9, stop=9, num=300)\n",
    "    x2_grid = x1_grid\n",
    "    x1_mesh, x2_mesh = np.meshgrid(x1_grid, x2_grid)\n",
    "    x_grid = np.stack(arrays=[x1_mesh.flatten(), x2_mesh.flatten()], axis=1)\n",
    "    return x1_grid, x2_grid, x_grid\n",
    "\n",
    "\n",
    "x1_grid, x2_grid, x_grid = make_grid()\n",
    "\n",
    "with model:\n",
    "    # Create features on the grid.\n",
    "    x_grid_ext = np.hstack(\n",
    "        (\n",
    "            np.ones((x_grid.shape[0], 1)),\n",
    "            x_grid,\n",
    "            (x_grid[:, 0] * x_grid[:, 1]).reshape(-1, 1),\n",
    "        )\n",
    "    )\n",
    "    # set the observed variables\n",
    "    pm.set_data({\"X\": x_grid_ext})\n",
    "    # calculate pushforward values of `p`\n",
    "    ppc_grid = pm.sample_posterior_predictive(idata, var_names=[\"p\"])"
   ]
  }
 ],
 "metadata": {
  "kernelspec": {
   "display_name": "pymc_env",
   "language": "python",
   "name": "python3"
  },
  "language_info": {
   "name": "python",
   "version": "3.11.9"
  }
 },
 "nbformat": 4,
 "nbformat_minor": 2
}
