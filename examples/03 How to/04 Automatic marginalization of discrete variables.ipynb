{
 "cells": [
  {
   "cell_type": "markdown",
   "metadata": {},
   "source": [
    "# Automatic marginalization of discrete variables\n",
    "PyMC は、離散潜在変数を使用したサンプリング モデルに対して非常に修正可能です。\n",
    "ただし、NUTS サンプラーのみを使用することに固執する場合は、何らかの方法で離散変数を削除する必要があります。\n",
    "これを行う最善の方法は、それらを無視することです。そうすれば、Rao-Blackwell の定理の恩恵を受け、パラメーターの分散推定値が低くなります。\n",
    "\n",
    "形式的には引数は次のようになります。サンプラーは、ある関数 $f$ の期待値 $\\mathbb{E}_{p(x, z)} \\bigl [ f(x, z) \\bigr ]$ を近似するものとして理解できます。 分布 $p(x, z)$ に関して。\n",
    "[総期待の法則](https://en.wikipedia.org/wiki/Law_of_total_expectation) によって、私たちは次のことを知っています。\n",
    "\n",
    "$$\n",
    "\\mathbb{E}_{p(x, z)} \\bigl[ f(x, z) \\bigr]\n",
    "=\n",
    "\\mathbb{E}_{p(z)} \\biggl[ \\mathbb{E}_{p(x| z)}\\bigl[ f(x, z) \\bigr] \\biggr]\n",
    "$$\n",
    "\n",
    "$g(z) = \\mathbb{E}_{p(x| z)}\\bigl[ f(x, z) \\bigr]$ とすると、[総分散の法則](https://en.wikipedia.org/wiki/Law_of_total_variance) によってわかります。\n",
    "\n",
    "$$\n",
    "\\mathbb{V}_{p(x, z)} \\bigl[ f(x, z) \\bigr]\n",
    "=\n",
    "\\mathbb{V}_{p(z)} \\bigl[ g(z) \\bigr]\n",
    "+\n",
    "\\mathbb{E}_{p(z)} \\biggl[ \\mathbb{V}_{p(x| z)}\\bigl[ f(x, z) \\bigr] \\biggr]\n",
    "$$\n",
    "\n",
    "期待値は分散を超えているため、常に正である必要があり、したがって、次のようになります。\n",
    "\n",
    "$$\n",
    "\\mathbb{V}_{p(x, z)} \\bigl[ f(x, z) \\bigr]\n",
    "\\geq\n",
    "\\mathbb{V}_{p(z)} \\bigl[ g(z) \\bigr]\n",
    "$$\n",
    "\n",
    "直感的には、モデル内の変数を周辺化すると、$f$ の代わりに $g$ を使用できるようになります。\n",
    "この分散の低下は、モンテカルロ標準誤差 (mcse) の低下に直接的に現れ、間接的には一般に有効サンプル サイズ (ESS) の増加に現れます。\n",
    "\n",
    "残念ながら、これを行うための計算は退屈で直感的ではないことがよくあります。 幸いなことに、```pymc-experimental``` はこの作業を自動的に行う方法をサポートするようになりました。"
   ]
  },
  {
   "cell_type": "code",
   "execution_count": 1,
   "metadata": {},
   "outputs": [],
   "source": [
    "import arviz as az\n",
    "import matplotlib.pyplot as plt\n",
    "import numpy as np\n",
    "import pandas as pd\n",
    "import pymc as pm\n",
    "import pytensor.tensor as pt"
   ]
  },
  {
   "cell_type": "markdown",
   "metadata": {},
   "source": [
    "````\n",
    "```Attention\n",
    "このノートブックは PyMC 依存関係ではないライブラリを使用しているため、このノートブックを実行するには特別にインストールする必要があります。 追加のガイダンスについては、下のドロップダウンを開いてください。\n",
    "```\n",
    "````\n",
    "\n",
    "**開発中の機能を使用するとみられる**ので,このノートブックはここまでとする."
   ]
  },
  {
   "cell_type": "markdown",
   "metadata": {},
   "source": [
    "## Gaussian Mixture model"
   ]
  },
  {
   "cell_type": "markdown",
   "metadata": {},
   "source": [
    "## Coal mining model"
   ]
  },
  {
   "cell_type": "markdown",
   "metadata": {},
   "source": [
    "## Authors"
   ]
  },
  {
   "cell_type": "markdown",
   "metadata": {},
   "source": [
    "## References"
   ]
  },
  {
   "cell_type": "markdown",
   "metadata": {},
   "source": [
    "## Watermark"
   ]
  },
  {
   "cell_type": "markdown",
   "metadata": {},
   "source": [
    "## License notice\n",
    "All the notebooks in this example gallery are provided under the MIT License which allows modification, and redistribution for any use provided the copyright and license notices are preserved."
   ]
  },
  {
   "cell_type": "markdown",
   "metadata": {},
   "source": [
    "## Citing PyMC examples"
   ]
  }
 ],
 "metadata": {
  "kernelspec": {
   "display_name": "pymc_env",
   "language": "python",
   "name": "python3"
  },
  "language_info": {
   "codemirror_mode": {
    "name": "ipython",
    "version": 3
   },
   "file_extension": ".py",
   "mimetype": "text/x-python",
   "name": "python",
   "nbconvert_exporter": "python",
   "pygments_lexer": "ipython3",
   "version": "3.11.8"
  }
 },
 "nbformat": 4,
 "nbformat_minor": 2
}
